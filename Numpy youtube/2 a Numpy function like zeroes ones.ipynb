{
 "cells": [
  {
   "cell_type": "code",
   "execution_count": 2,
   "id": "47a9dbaa-678e-45e7-aba7-b7dc486ff832",
   "metadata": {},
   "outputs": [
    {
     "name": "stdout",
     "output_type": "stream",
     "text": [
      "[         0          0 2071888432        522 2071888112        522]\n",
      "[[2066713688        522          0]\n",
      " [         0          0          0]]\n",
      "[[[     0      1      1]\n",
      "  [     0      0      0]]\n",
      "\n",
      " [[     0      0      0]\n",
      "  [     0      0 524288]]]\n"
     ]
    }
   ],
   "source": [
    "# Creation of 1,2,3 dimesional array using np.empty()\n",
    "\n",
    "# Sytax -> np.empty(col,dtype) -> 1d\n",
    "# Sytax -> np.empty((rows,cols),dtype) -> 2d\n",
    "# Sytax -> np.empty((matrix,rows,col),dtype) -> 3d\n",
    "import numpy as np\n",
    "\n",
    "a=np.empty(6,int)\n",
    "b=np.empty((2,3),int)\n",
    "c=np.empty((2,2,3),int)# 2 matrix with 2*3 rows and col you can also specify float double and etc\n",
    "\n",
    "print(a)\n",
    "print(b)\n",
    "print(c) # np.empty which will put random data to the specify shape"
   ]
  },
  {
   "cell_type": "code",
   "execution_count": 4,
   "id": "8e2d5df8-e0c8-481a-b54d-cd1cabe406e4",
   "metadata": {},
   "outputs": [
    {
     "name": "stdout",
     "output_type": "stream",
     "text": [
      "[1 1 1 1 1 1]\n",
      "[[1. 1. 1.]\n",
      " [1. 1. 1.]]\n",
      "[[[1. 1. 1.]\n",
      "  [1. 1. 1.]\n",
      "  [1. 1. 1.]]\n",
      "\n",
      " [[1. 1. 1.]\n",
      "  [1. 1. 1.]\n",
      "  [1. 1. 1.]]]\n"
     ]
    }
   ],
   "source": [
    "# Creation of 1,2,3 dimensional array using np.ones()\n",
    "\n",
    "# Syntax -> np.ones(col,dtype) -> 1d\n",
    "# Syntax -> np.ones((row,col),dtype) -> 2d\n",
    "# Syntax -> np.ones((number of matrix,row,col),dtype) -> 3d\n",
    "\n",
    "a=np.ones(6,int) \n",
    "b=np.ones((2,3),float)\n",
    "c=np.ones((2,3,3),float) \n",
    "\n",
    "print(a)\n",
    "print(b)\n",
    "print(c)"
   ]
  },
  {
   "cell_type": "code",
   "execution_count": 5,
   "id": "8cd5b181-ed66-4634-bb0d-f3106a80e1d1",
   "metadata": {},
   "outputs": [
    {
     "name": "stdout",
     "output_type": "stream",
     "text": [
      "[0 0 0 0 0 0]\n",
      "[[0. 0. 0.]\n",
      " [0. 0. 0.]]\n",
      "[[[0. 0. 0.]\n",
      "  [0. 0. 0.]\n",
      "  [0. 0. 0.]]\n",
      "\n",
      " [[0. 0. 0.]\n",
      "  [0. 0. 0.]\n",
      "  [0. 0. 0.]]]\n"
     ]
    }
   ],
   "source": [
    "# Creation of 1,2,3 dimensional array using np.ones()\n",
    "\n",
    "# Syntax -> np.zeros(col,dtype) -> 1d\n",
    "# Syntax -> np.zeros((row,col),dtype) -> 2d\n",
    "# Syntax -> np.zeros((number of matrix,row,col),dtype) -> 3d\n",
    "\n",
    "a=np.zeros(6,int) \n",
    "b=np.zeros((2,3),float)\n",
    "c=np.zeros((2,3,3),float) \n",
    "\n",
    "print(a)\n",
    "print(b)\n",
    "print(c)"
   ]
  },
  {
   "cell_type": "raw",
   "id": "c4f2d854-cf02-4b40-a423-c0d9786e612d",
   "metadata": {},
   "source": [
    "dtype=bool,str,int,float"
   ]
  },
  {
   "cell_type": "code",
   "execution_count": 6,
   "id": "740fcd4d-4d7b-4345-a41f-bd1e2ce8d8e3",
   "metadata": {},
   "outputs": [
    {
     "name": "stdout",
     "output_type": "stream",
     "text": [
      "0\n",
      "0.0\n",
      "0.0\n"
     ]
    }
   ],
   "source": [
    "# numpy array accessing is same as that of array \n",
    "\n",
    "print(a[0])\n",
    "print(b[0][1])\n",
    "print(c[0][1][2])"
   ]
  }
 ],
 "metadata": {
  "kernelspec": {
   "display_name": "Python 3 (ipykernel)",
   "language": "python",
   "name": "python3"
  },
  "language_info": {
   "codemirror_mode": {
    "name": "ipython",
    "version": 3
   },
   "file_extension": ".py",
   "mimetype": "text/x-python",
   "name": "python",
   "nbconvert_exporter": "python",
   "pygments_lexer": "ipython3",
   "version": "3.12.8"
  }
 },
 "nbformat": 4,
 "nbformat_minor": 5
}
