{
 "cells": [
  {
   "cell_type": "markdown",
   "id": "977513b0-dea8-49dd-b1e1-15f5cf039b6d",
   "metadata": {},
   "source": [
    "# How to install numpy "
   ]
  },
  {
   "cell_type": "raw",
   "id": "24bc3828-af58-4d96-8015-c270f18a94f2",
   "metadata": {},
   "source": [
    "How to install numpy in the pc\n",
    "\n",
    "Go to the command prompt and run the below command\n",
    "\n",
    "\"pip install numpy\""
   ]
  },
  {
   "cell_type": "markdown",
   "id": "30a767c4-c9e2-4122-b684-480b5128a68f",
   "metadata": {},
   "source": [
    "# How to import numpy "
   ]
  },
  {
   "cell_type": "code",
   "execution_count": 11,
   "id": "93c0bb0d-f240-4d53-8b77-c770e1c5f04c",
   "metadata": {},
   "outputs": [],
   "source": [
    "# How to import the Numpy library\n",
    "\n",
    "import numpy as np \n",
    "\n",
    "# where np is the alias other wise numpy should be used every where"
   ]
  },
  {
   "cell_type": "raw",
   "id": "fd506be3-ac7a-41d5-a875-653da2a4a5bd",
   "metadata": {},
   "source": [
    "Advantage of using Numpy \n",
    "\n",
    "* Better performance\n",
    "* Rich Functionality\n",
    "* Support for Multi Dimensional array"
   ]
  },
  {
   "cell_type": "code",
   "execution_count": 17,
   "id": "ca1f6017-8c72-441c-bfa8-415766dc7422",
   "metadata": {},
   "outputs": [
    {
     "name": "stdout",
     "output_type": "stream",
     "text": [
      "One dimensional array [1 2 3 4]\n",
      "Two dimensional array\n",
      "[[1 2 3 4]\n",
      " [5 6 7 8]]\n",
      "Three dimensional array \n",
      "[[[1 2 3]\n",
      "  [4 5 6]]\n",
      "\n",
      " [[7 8 9]\n",
      "  [1 2 3]]]\n"
     ]
    }
   ],
   "source": [
    "# How to create numpy array\n",
    "\n",
    "import numpy as np # This is optional because in the previous cell itself I have imported where jupyter notebook is interrelated\n",
    "\n",
    "onedarray=np.array([1,2,3,4])\n",
    "\n",
    "print(f\"One dimensional array {onedarray}\")\n",
    "\n",
    "twodarray=np.array([[1,2,3,4],[5,6,7,8]])\n",
    "\n",
    "print(f\"Two dimensional array\\n{twodarray}\")\n",
    "\n",
    "threedarray=np.array([[[1,2,3],[4,5,6]],[[7,8,9],[1,2,3]]])\n",
    "\n",
    "print(f\"Three dimensional array \\n{threedarray}\")"
   ]
  },
  {
   "cell_type": "code",
   "execution_count": 18,
   "id": "d2c9323d-8599-4fdc-864e-b77b1ad90ab7",
   "metadata": {},
   "outputs": [
    {
     "name": "stdout",
     "output_type": "stream",
     "text": [
      "<class 'numpy.ndarray'>\n",
      "<class 'numpy.ndarray'>\n",
      "<class 'numpy.ndarray'>\n"
     ]
    }
   ],
   "source": [
    "# To check the Data type of the numpy array\n",
    "\n",
    "print(type(onedarray))\n",
    "print(type(twodarray))\n",
    "print(type(threedarray))"
   ]
  },
  {
   "cell_type": "code",
   "execution_count": 19,
   "id": "f81d038d-4e58-471e-944a-a532214be88a",
   "metadata": {},
   "outputs": [
    {
     "name": "stdout",
     "output_type": "stream",
     "text": [
      "4\n",
      "8\n",
      "12\n"
     ]
    }
   ],
   "source": [
    "# To check the Number of element in the numpy array \n",
    "\n",
    "print(onedarray.size)\n",
    "print(twodarray.size)\n",
    "print(threedarray.size)"
   ]
  },
  {
   "cell_type": "code",
   "execution_count": 20,
   "id": "5a40a0a9-2340-4733-8089-201718c22ba7",
   "metadata": {},
   "outputs": [
    {
     "name": "stdout",
     "output_type": "stream",
     "text": [
      "int32\n",
      "int32\n",
      "int32\n"
     ]
    }
   ],
   "source": [
    "# To check the element data type that is used in numpy array\n",
    "\n",
    "print(onedarray.dtype)\n",
    "print(twodarray.dtype)\n",
    "print(threedarray.dtype)"
   ]
  },
  {
   "cell_type": "code",
   "execution_count": 21,
   "id": "4c012ff5-1810-49dc-9202-4b8440bbff5d",
   "metadata": {},
   "outputs": [
    {
     "name": "stdout",
     "output_type": "stream",
     "text": [
      "<U5\n",
      "float64\n"
     ]
    }
   ],
   "source": [
    "# lets check the dtype of the float and string\n",
    "\n",
    "a=np.array([\"hello\",\"hi\"])\n",
    "b=np.array([1,2.2,3])\n",
    "\n",
    "print(a.dtype)\n",
    "print(b.dtype)"
   ]
  },
  {
   "cell_type": "code",
   "execution_count": 23,
   "id": "d1fa1284-1b0d-4a88-b82d-c0c1c114886f",
   "metadata": {},
   "outputs": [
    {
     "name": "stdout",
     "output_type": "stream",
     "text": [
      "(4,)\n",
      "(2, 4)\n",
      "(2, 2, 3)\n"
     ]
    }
   ],
   "source": [
    "# To get the shape of the np array like rows column matrix in each dimension just check the chatgpt once for more clear understand of size it is easier\n",
    "\n",
    "print(onedarray.shape)\n",
    "print(twodarray.shape)\n",
    "print(threedarray.shape)"
   ]
  },
  {
   "cell_type": "code",
   "execution_count": 26,
   "id": "6cd8a5ac-a27c-434c-a012-a93c90aa3a61",
   "metadata": {},
   "outputs": [
    {
     "name": "stdout",
     "output_type": "stream",
     "text": [
      "[[1 4]\n",
      " [2 5]\n",
      " [3 6]]\n"
     ]
    }
   ],
   "source": [
    "# To get the transpose of the numpy array transpose is nothing but n*m -> m*n\n",
    "\n",
    "import numpy as np \n",
    "\n",
    "notrans=np.array([[1,2,3],[4,5,6]])\n",
    "\n",
    "trans=notrans.T; # or notrans.transpose() also works \n",
    "\n",
    "print(trans)"
   ]
  },
  {
   "cell_type": "code",
   "execution_count": 28,
   "id": "134fa5a5-39e1-42b8-9d05-b635589aa168",
   "metadata": {},
   "outputs": [
    {
     "name": "stdout",
     "output_type": "stream",
     "text": [
      "2\n"
     ]
    }
   ],
   "source": [
    "# To get the dimension of the array\n",
    "\n",
    "print(notrans.ndim)"
   ]
  }
 ],
 "metadata": {
  "kernelspec": {
   "display_name": "Python 3 (ipykernel)",
   "language": "python",
   "name": "python3"
  },
  "language_info": {
   "codemirror_mode": {
    "name": "ipython",
    "version": 3
   },
   "file_extension": ".py",
   "mimetype": "text/x-python",
   "name": "python",
   "nbconvert_exporter": "python",
   "pygments_lexer": "ipython3",
   "version": "3.12.8"
  }
 },
 "nbformat": 4,
 "nbformat_minor": 5
}
