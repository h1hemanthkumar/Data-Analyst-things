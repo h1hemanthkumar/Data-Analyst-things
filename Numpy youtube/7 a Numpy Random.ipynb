{
 "cells": [
  {
   "cell_type": "code",
   "execution_count": 4,
   "id": "776b385f-5e07-484a-b996-7c2a13ae9262",
   "metadata": {},
   "outputs": [],
   "source": [
    "import numpy as np"
   ]
  },
  {
   "cell_type": "code",
   "execution_count": 5,
   "id": "8bfbd350-0e16-4af0-8224-0d005808e7f9",
   "metadata": {},
   "outputs": [
    {
     "data": {
      "text/plain": [
       "array([0.65288157])"
      ]
     },
     "execution_count": 5,
     "metadata": {},
     "output_type": "execute_result"
    }
   ],
   "source": [
    "np.random.random(1) # it provide the array with 1 random number"
   ]
  },
  {
   "cell_type": "code",
   "execution_count": 6,
   "id": "3d51e34d-6241-4102-a876-713342349145",
   "metadata": {},
   "outputs": [
    {
     "data": {
      "text/plain": [
       "array([0.64074998, 0.61988736])"
      ]
     },
     "execution_count": 6,
     "metadata": {},
     "output_type": "execute_result"
    }
   ],
   "source": [
    "np.random.random(2) # it provide the array with 2 random number"
   ]
  },
  {
   "cell_type": "code",
   "execution_count": 8,
   "id": "f16210aa-5657-4c6f-a6a1-37bf5aa5520a",
   "metadata": {},
   "outputs": [
    {
     "data": {
      "text/plain": [
       "array([[0.55512601, 0.00722515],\n",
       "       [0.80973601, 0.51782366]])"
      ]
     },
     "execution_count": 8,
     "metadata": {},
     "output_type": "execute_result"
    }
   ],
   "source": [
    "np.random.random((2,2)) # it provide the array with 2*2 random number"
   ]
  },
  {
   "cell_type": "code",
   "execution_count": 9,
   "id": "03164bc7-5ca1-443a-b532-76c21d1fe959",
   "metadata": {},
   "outputs": [
    {
     "data": {
      "text/plain": [
       "4"
      ]
     },
     "execution_count": 9,
     "metadata": {},
     "output_type": "execute_result"
    }
   ],
   "source": [
    "np.random.randint(1,10)"
   ]
  },
  {
   "cell_type": "code",
   "execution_count": 10,
   "id": "bb4318c2-775b-486c-a4c1-d93972569ea6",
   "metadata": {},
   "outputs": [
    {
     "data": {
      "text/plain": [
       "array([[3, 2],\n",
       "       [2, 8]])"
      ]
     },
     "execution_count": 10,
     "metadata": {},
     "output_type": "execute_result"
    }
   ],
   "source": [
    "np.random.randint(1,10,(2,2)) # gives 2*2 matrix with random number from 1 to 10 "
   ]
  },
  {
   "cell_type": "code",
   "execution_count": 11,
   "id": "7d38bd20-f959-4f7d-832e-0bf7f6904234",
   "metadata": {},
   "outputs": [
    {
     "data": {
      "text/plain": [
       "array([[0.096253  , 0.16024482],\n",
       "       [0.9059264 , 0.90120138]])"
      ]
     },
     "execution_count": 11,
     "metadata": {},
     "output_type": "execute_result"
    }
   ],
   "source": [
    "np.random.rand(2,2) # only positive things"
   ]
  },
  {
   "cell_type": "code",
   "execution_count": 13,
   "id": "730a4b2c-b44b-43c2-be26-97f1a57b5d9b",
   "metadata": {},
   "outputs": [
    {
     "data": {
      "text/plain": [
       "array([[-1.7667616 ,  0.05084548],\n",
       "       [ 0.20836637, -0.09917384]])"
      ]
     },
     "execution_count": 13,
     "metadata": {},
     "output_type": "execute_result"
    }
   ],
   "source": [
    "np.random.randn(2,2) # combination of both positive and negative"
   ]
  },
  {
   "cell_type": "code",
   "execution_count": 15,
   "id": "949026f3-d7d9-4c53-aae3-b5072c891485",
   "metadata": {},
   "outputs": [
    {
     "data": {
      "text/plain": [
       "4"
      ]
     },
     "execution_count": 15,
     "metadata": {},
     "output_type": "execute_result"
    }
   ],
   "source": [
    "a=np.array([1,2,3,4])\n",
    "\n",
    "np.random.choice(a) # it choice from the provided array"
   ]
  }
 ],
 "metadata": {
  "kernelspec": {
   "display_name": "Python 3 (ipykernel)",
   "language": "python",
   "name": "python3"
  },
  "language_info": {
   "codemirror_mode": {
    "name": "ipython",
    "version": 3
   },
   "file_extension": ".py",
   "mimetype": "text/x-python",
   "name": "python",
   "nbconvert_exporter": "python",
   "pygments_lexer": "ipython3",
   "version": "3.12.8"
  }
 },
 "nbformat": 4,
 "nbformat_minor": 5
}
