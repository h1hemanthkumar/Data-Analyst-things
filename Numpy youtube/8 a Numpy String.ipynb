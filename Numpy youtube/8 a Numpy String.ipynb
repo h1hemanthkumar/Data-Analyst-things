{
 "cells": [
  {
   "cell_type": "code",
   "execution_count": 4,
   "id": "7ea48563-e290-4106-a1e3-2f05c95dbc17",
   "metadata": {},
   "outputs": [
    {
     "data": {
      "text/plain": [
       "array('hello how are younice hudgi how are you', dtype='<U39')"
      ]
     },
     "execution_count": 4,
     "metadata": {},
     "output_type": "execute_result"
    }
   ],
   "source": [
    "import numpy as np\n",
    "\n",
    "s1=\"hello how are you\"\n",
    "s2=\"nice hudgi how are you\"\n",
    "\n",
    "np.char.add(s1,s2)"
   ]
  },
  {
   "cell_type": "code",
   "execution_count": 5,
   "id": "60ed4348-9e30-4733-ba5e-6842101837ba",
   "metadata": {},
   "outputs": [
    {
     "data": {
      "text/plain": [
       "array('HELLO HOW ARE YOU', dtype='<U17')"
      ]
     },
     "execution_count": 5,
     "metadata": {},
     "output_type": "execute_result"
    }
   ],
   "source": [
    "np.char.upper(s1)"
   ]
  },
  {
   "cell_type": "code",
   "execution_count": 6,
   "id": "8b95ea42-f5f9-461c-b03a-224e6b3d786e",
   "metadata": {},
   "outputs": [
    {
     "data": {
      "text/plain": [
       "array('hello how are you', dtype='<U17')"
      ]
     },
     "execution_count": 6,
     "metadata": {},
     "output_type": "execute_result"
    }
   ],
   "source": [
    "np.char.lower(s1)"
   ]
  },
  {
   "cell_type": "code",
   "execution_count": 11,
   "id": "bb920715-b2e5-47bb-a997-d526baa40cbc",
   "metadata": {},
   "outputs": [
    {
     "data": {
      "text/plain": [
       "array(list(['hello', 'how', 'are', 'you']), dtype=object)"
      ]
     },
     "execution_count": 11,
     "metadata": {},
     "output_type": "execute_result"
    }
   ],
   "source": [
    "np.char.split(s1)"
   ]
  },
  {
   "cell_type": "code",
   "execution_count": 12,
   "id": "67eb5d5f-a46f-4350-a540-178290f6cea5",
   "metadata": {},
   "outputs": [
    {
     "data": {
      "text/plain": [
       "array('hi how are you', dtype='<U14')"
      ]
     },
     "execution_count": 12,
     "metadata": {},
     "output_type": "execute_result"
    }
   ],
   "source": [
    "np.char.replace(s1,'hello','hi')"
   ]
  },
  {
   "cell_type": "code",
   "execution_count": 16,
   "id": "2b0a1a34-f0cb-46e3-97e1-49336e1cc2d3",
   "metadata": {},
   "outputs": [
    {
     "data": {
      "text/plain": [
       "array('***************************************hi***************************************',\n",
       "      dtype='<U80')"
      ]
     },
     "execution_count": 16,
     "metadata": {},
     "output_type": "execute_result"
    }
   ],
   "source": [
    "np.char.center(\"hi\",80,'*')"
   ]
  },
  {
   "cell_type": "code",
   "execution_count": 17,
   "id": "a4d4e57a-2939-4d73-ab2b-cb439992a9d0",
   "metadata": {},
   "outputs": [
    {
     "data": {
      "text/plain": [
       "array('*hi', dtype='<U3')"
      ]
     },
     "execution_count": 17,
     "metadata": {},
     "output_type": "execute_result"
    }
   ],
   "source": [
    "np.char.center(\"hi\",3,'*')"
   ]
  }
 ],
 "metadata": {
  "kernelspec": {
   "display_name": "Python 3 (ipykernel)",
   "language": "python",
   "name": "python3"
  },
  "language_info": {
   "codemirror_mode": {
    "name": "ipython",
    "version": 3
   },
   "file_extension": ".py",
   "mimetype": "text/x-python",
   "name": "python",
   "nbconvert_exporter": "python",
   "pygments_lexer": "ipython3",
   "version": "3.12.8"
  }
 },
 "nbformat": 4,
 "nbformat_minor": 5
}
