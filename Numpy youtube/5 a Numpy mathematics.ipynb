{
 "cells": [
  {
   "cell_type": "code",
   "execution_count": 2,
   "id": "d2d59591-b988-47db-8993-188cb2ea7619",
   "metadata": {},
   "outputs": [
    {
     "name": "stdout",
     "output_type": "stream",
     "text": [
      "[[ 6  8 10 12]\n",
      " [14 16 18 20]\n",
      " [22 24 26 28]\n",
      " [30 32 34 36]]\n"
     ]
    }
   ],
   "source": [
    "# Addition \n",
    "import numpy as np\n",
    "\n",
    "a=np.arange(1,17)\n",
    "b=np.arange(5,21)\n",
    "a=a.reshape((4,4))\n",
    "b=b.reshape((4,4))\n",
    "\n",
    "c=a+b\n",
    "print(c)"
   ]
  },
  {
   "cell_type": "code",
   "execution_count": 4,
   "id": "07e61e47-044c-46ce-bb03-f0d9b9cc9603",
   "metadata": {},
   "outputs": [
    {
     "name": "stdout",
     "output_type": "stream",
     "text": [
      "[[ 6  8 10 12]\n",
      " [14 16 18 20]\n",
      " [22 24 26 28]\n",
      " [30 32 34 36]]\n"
     ]
    }
   ],
   "source": [
    "d=np.add(a,b)\n",
    "print(d)"
   ]
  },
  {
   "cell_type": "code",
   "execution_count": 6,
   "id": "6a268723-a598-4469-8f18-156f9025bc98",
   "metadata": {},
   "outputs": [
    {
     "name": "stdout",
     "output_type": "stream",
     "text": [
      "[[-4 -4 -4 -4]\n",
      " [-4 -4 -4 -4]\n",
      " [-4 -4 -4 -4]\n",
      " [-4 -4 -4 -4]]\n"
     ]
    }
   ],
   "source": [
    "#subtraction\n",
    "\n",
    "e=a-b\n",
    "print(e)"
   ]
  },
  {
   "cell_type": "code",
   "execution_count": 7,
   "id": "5a1db48a-6dce-49bd-9603-6839e31e4f45",
   "metadata": {},
   "outputs": [
    {
     "name": "stdout",
     "output_type": "stream",
     "text": [
      "[[-4 -4 -4 -4]\n",
      " [-4 -4 -4 -4]\n",
      " [-4 -4 -4 -4]\n",
      " [-4 -4 -4 -4]]\n"
     ]
    }
   ],
   "source": [
    "f=np.subtract(a,b)\n",
    "print(f)"
   ]
  },
  {
   "cell_type": "code",
   "execution_count": 8,
   "id": "da00c467-5f0d-4d8f-823c-297fc8dbd046",
   "metadata": {},
   "outputs": [
    {
     "name": "stdout",
     "output_type": "stream",
     "text": [
      "[[  5  12  21  32]\n",
      " [ 45  60  77  96]\n",
      " [117 140 165 192]\n",
      " [221 252 285 320]]\n"
     ]
    }
   ],
   "source": [
    "# common multiplication\n",
    "g=a*b# np.multiply(a,b)\n",
    "print(g)"
   ]
  },
  {
   "cell_type": "code",
   "execution_count": 9,
   "id": "9099fee9-3cc1-41be-85d3-7000bccd63e7",
   "metadata": {},
   "outputs": [
    {
     "name": "stdout",
     "output_type": "stream",
     "text": [
      "[[130 140 150 160]\n",
      " [306 332 358 384]\n",
      " [482 524 566 608]\n",
      " [658 716 774 832]]\n"
     ]
    }
   ],
   "source": [
    "# matrix multiplication\n",
    "h=a@b # np.dot(a,b)\n",
    "print(h)"
   ]
  },
  {
   "cell_type": "code",
   "execution_count": 11,
   "id": "43bc4b3f-9162-4356-b1f0-b017f4392bd3",
   "metadata": {},
   "outputs": [
    {
     "name": "stdout",
     "output_type": "stream",
     "text": [
      "20\n"
     ]
    }
   ],
   "source": [
    "#Maximum in Array\n",
    "\n",
    "i=b.max()\n",
    "print(i)"
   ]
  },
  {
   "cell_type": "code",
   "execution_count": 12,
   "id": "7996ad0d-1fba-4c62-ac1b-f0f9fb382e66",
   "metadata": {},
   "outputs": [
    {
     "name": "stdout",
     "output_type": "stream",
     "text": [
      "5\n"
     ]
    }
   ],
   "source": [
    "# Minimum in array\n",
    "\n",
    "j=b.min()\n",
    "print(j)"
   ]
  },
  {
   "cell_type": "code",
   "execution_count": 13,
   "id": "c177fb84-c986-4dc9-baf3-dc263fe9a3e9",
   "metadata": {},
   "outputs": [
    {
     "name": "stdout",
     "output_type": "stream",
     "text": [
      "15\n"
     ]
    }
   ],
   "source": [
    "# index of largest element\n",
    "\n",
    "k=b.argmax()\n",
    "print(k)"
   ]
  },
  {
   "cell_type": "code",
   "execution_count": 14,
   "id": "e397cf4f-8a9c-45e9-9bef-53f7ce087411",
   "metadata": {},
   "outputs": [
    {
     "name": "stdout",
     "output_type": "stream",
     "text": [
      "200\n"
     ]
    }
   ],
   "source": [
    "# Sumattion of all element in the array\n",
    "\n",
    "sum=np.sum(b)\n",
    "print(sum)"
   ]
  },
  {
   "cell_type": "code",
   "execution_count": 17,
   "id": "42988593-d636-425c-94cc-5a85d3e2947e",
   "metadata": {},
   "outputs": [
    {
     "data": {
      "text/plain": [
       "array([26, 42, 58, 74])"
      ]
     },
     "execution_count": 17,
     "metadata": {},
     "output_type": "execute_result"
    }
   ],
   "source": [
    "# axis=0->col\n",
    "# axis=1->row\n",
    "\n",
    "np.sum(b,axis=1) #->row sum\n"
   ]
  },
  {
   "cell_type": "code",
   "execution_count": 18,
   "id": "a62b229c-9994-4d9e-87be-3e8a74a7caab",
   "metadata": {},
   "outputs": [
    {
     "data": {
      "text/plain": [
       "array([44, 48, 52, 56])"
      ]
     },
     "execution_count": 18,
     "metadata": {},
     "output_type": "execute_result"
    }
   ],
   "source": [
    "np.sum(b,axis=0) #->col sum"
   ]
  },
  {
   "cell_type": "code",
   "execution_count": 19,
   "id": "6a73b7ba-bc69-458a-8f88-22ceaad67f89",
   "metadata": {},
   "outputs": [
    {
     "data": {
      "text/plain": [
       "array([[1.60943791, 1.79175947, 1.94591015, 2.07944154],\n",
       "       [2.19722458, 2.30258509, 2.39789527, 2.48490665],\n",
       "       [2.56494936, 2.63905733, 2.7080502 , 2.77258872],\n",
       "       [2.83321334, 2.89037176, 2.94443898, 2.99573227]])"
      ]
     },
     "execution_count": 19,
     "metadata": {},
     "output_type": "execute_result"
    }
   ],
   "source": [
    "np.log(b)"
   ]
  },
  {
   "cell_type": "code",
   "execution_count": 20,
   "id": "040276b8-ad4f-47aa-bf3a-5ee11b230078",
   "metadata": {},
   "outputs": [
    {
     "data": {
      "text/plain": [
       "12.5"
      ]
     },
     "execution_count": 20,
     "metadata": {},
     "output_type": "execute_result"
    }
   ],
   "source": [
    "np.mean(b)"
   ]
  },
  {
   "cell_type": "code",
   "execution_count": 21,
   "id": "3fb37a14-d5cb-482d-958f-a37147454fd1",
   "metadata": {},
   "outputs": [
    {
     "data": {
      "text/plain": [
       "array([[2.23606798, 2.44948974, 2.64575131, 2.82842712],\n",
       "       [3.        , 3.16227766, 3.31662479, 3.46410162],\n",
       "       [3.60555128, 3.74165739, 3.87298335, 4.        ],\n",
       "       [4.12310563, 4.24264069, 4.35889894, 4.47213595]])"
      ]
     },
     "execution_count": 21,
     "metadata": {},
     "output_type": "execute_result"
    }
   ],
   "source": [
    "np.sqrt(b)"
   ]
  },
  {
   "cell_type": "code",
   "execution_count": 22,
   "id": "09c14a59-6402-4157-bc94-6a25f5e6966e",
   "metadata": {},
   "outputs": [
    {
     "data": {
      "text/plain": [
       "4.6097722286464435"
      ]
     },
     "execution_count": 22,
     "metadata": {},
     "output_type": "execute_result"
    }
   ],
   "source": [
    "np.std(b) # Standard deviation of b"
   ]
  }
 ],
 "metadata": {
  "kernelspec": {
   "display_name": "Python 3 (ipykernel)",
   "language": "python",
   "name": "python3"
  },
  "language_info": {
   "codemirror_mode": {
    "name": "ipython",
    "version": 3
   },
   "file_extension": ".py",
   "mimetype": "text/x-python",
   "name": "python",
   "nbconvert_exporter": "python",
   "pygments_lexer": "ipython3",
   "version": "3.12.8"
  }
 },
 "nbformat": 4,
 "nbformat_minor": 5
}
