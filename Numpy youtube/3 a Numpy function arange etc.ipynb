{
 "cells": [
  {
   "cell_type": "markdown",
   "id": "ece7730b-0c79-4e09-b0c5-9e9d260473ba",
   "metadata": {},
   "source": [
    "### Arange function in numpy "
   ]
  },
  {
   "cell_type": "code",
   "execution_count": 4,
   "id": "082ea718-f18e-4621-b174-6da1d7eb5f50",
   "metadata": {},
   "outputs": [
    {
     "name": "stdout",
     "output_type": "stream",
     "text": [
      "[1 2 3 4 5 6 7 8 9]\n"
     ]
    }
   ],
   "source": [
    "# Sytax- np.arange(start,end,step)\n",
    "\n",
    "import numpy as np\n",
    "\n",
    "# it just assign the a with the numpy array starting with 1 and upto end-1 \n",
    "a=np.arange(1,10)\n",
    "\n",
    "print(a)"
   ]
  },
  {
   "cell_type": "code",
   "execution_count": 2,
   "id": "8846ac46-e46e-4726-a392-931167a898ca",
   "metadata": {},
   "outputs": [
    {
     "name": "stdout",
     "output_type": "stream",
     "text": [
      "[1 3 5 7 9]\n"
     ]
    }
   ],
   "source": [
    "# it also same but it step by 1 for example is 1,10 is start and end 1 is assigned 2 is left and 3 is assigned 1+2=3 3+step=5\n",
    "b=np.arange(1,10,2)\n",
    "\n",
    "print(b)"
   ]
  },
  {
   "cell_type": "markdown",
   "id": "8eafe253-59e0-4471-b1ef-648b5835e0a2",
   "metadata": {},
   "source": [
    "### Reshape function in numpy"
   ]
  },
  {
   "cell_type": "code",
   "execution_count": 6,
   "id": "89f11023-f82c-45a8-afb8-4b35d2bbc2a2",
   "metadata": {},
   "outputs": [
    {
     "name": "stdout",
     "output_type": "stream",
     "text": [
      "[[1 2 3]\n",
      " [4 5 6]\n",
      " [7 8 9]]\n"
     ]
    }
   ],
   "source": [
    "# Sytax- array.reshape((rows,col))\n",
    "\n",
    "import numpy as np \n",
    "\n",
    "# This is the 1d array where it is consisting of 9 elements\n",
    "a=np.arange(1,10)\n",
    "\n",
    "# To reshape the array there should rows*col number of element in the reshaping array means in below a numpy array there should 3*3=9 element\n",
    "a=a.reshape((3,3))\n",
    "\n",
    "print(a)"
   ]
  },
  {
   "cell_type": "code",
   "execution_count": 7,
   "id": "2567083c-7f08-41bc-9ce3-ae6210dd80cb",
   "metadata": {},
   "outputs": [
    {
     "ename": "ValueError",
     "evalue": "cannot reshape array of size 10 into shape (3,3)",
     "output_type": "error",
     "traceback": [
      "\u001b[1;31m---------------------------------------------------------------------------\u001b[0m",
      "\u001b[1;31mValueError\u001b[0m                                Traceback (most recent call last)",
      "Cell \u001b[1;32mIn[7], line 9\u001b[0m\n\u001b[0;32m      6\u001b[0m a\u001b[38;5;241m=\u001b[39mnp\u001b[38;5;241m.\u001b[39marange(\u001b[38;5;241m1\u001b[39m,\u001b[38;5;241m11\u001b[39m)\n\u001b[0;32m      8\u001b[0m \u001b[38;5;66;03m# To reshape the array there should rows*col number of element in the reshaping array means in below a numpy array there should 3*3=9 element\u001b[39;00m\n\u001b[1;32m----> 9\u001b[0m a\u001b[38;5;241m=\u001b[39m\u001b[43ma\u001b[49m\u001b[38;5;241;43m.\u001b[39;49m\u001b[43mreshape\u001b[49m\u001b[43m(\u001b[49m\u001b[43m(\u001b[49m\u001b[38;5;241;43m3\u001b[39;49m\u001b[43m,\u001b[49m\u001b[38;5;241;43m3\u001b[39;49m\u001b[43m)\u001b[49m\u001b[43m)\u001b[49m\n\u001b[0;32m     11\u001b[0m \u001b[38;5;28mprint\u001b[39m(a)\n",
      "\u001b[1;31mValueError\u001b[0m: cannot reshape array of size 10 into shape (3,3)"
     ]
    }
   ],
   "source": [
    "# Sytax- array.reshape((rows,col))\n",
    "\n",
    "import numpy as np \n",
    "\n",
    "# This is the 1d array where it is consisting of 9 elements\n",
    "a=np.arange(1,11)\n",
    "\n",
    "# To reshape the array there should rows*col number of element in the reshaping array means in below a numpy array there should 3*3=9 element but there is no correct n and m value given\n",
    "a=a.reshape((3,3))\n",
    "\n",
    "print(a)"
   ]
  },
  {
   "cell_type": "markdown",
   "id": "df916b92-51e8-4882-b266-aa8eea50b9e1",
   "metadata": {},
   "source": [
    "### Flatten function in numpy "
   ]
  },
  {
   "cell_type": "code",
   "execution_count": 21,
   "id": "17b507c9-10d5-4050-93a2-c78bd5769d5f",
   "metadata": {},
   "outputs": [
    {
     "name": "stdout",
     "output_type": "stream",
     "text": [
      "[ 1  2  3  4  5  6  7  8  9 10]\n",
      "[[ 1  2]\n",
      " [ 3  4]\n",
      " [ 5  6]\n",
      " [ 7  8]\n",
      " [ 9 10]]\n",
      "[ 1  2  3  4  5  6  7  8  9 10]\n"
     ]
    }
   ],
   "source": [
    "import numpy as np \n",
    "\n",
    "a=np.arange(1,11)\n",
    "print(a)\n",
    "\n",
    "a=a.reshape((5,2))\n",
    "print(a)\n",
    "\n",
    "a=a.flatten() # what ever the numpy array is it just flatten it into 1-d array\n",
    "print(a)"
   ]
  },
  {
   "cell_type": "code",
   "execution_count": 22,
   "id": "5b5f2d37-b286-4a0f-b09e-a59172cbbead",
   "metadata": {},
   "outputs": [
    {
     "name": "stdout",
     "output_type": "stream",
     "text": [
      "[ 1  2  3  4  5  6  7  8  9 10]\n"
     ]
    }
   ],
   "source": [
    "a=a.reshape((5,2))\n",
    "a=a.ravel()\n",
    "print(a)"
   ]
  },
  {
   "cell_type": "markdown",
   "id": "ae43bb7a-693f-4487-8b03-e989e2afeb09",
   "metadata": {},
   "source": [
    "### Difference between ravel and flatten\n",
    "#### Ravel\n",
    "##### * View or Copy: ravel returns a flattened array. If possible, it returns a view of the original array, meaning changes to the flattened array will affect the original array. If a view is not possible, it returns a copy.\n",
    "##### * Faster: it does n't required any extra memory it is faster\n",
    "#### Flatten\n",
    "##### * Always a Copy: flatten always returns a copy of the original array, so changes to the flattened array do not affect the original array."
   ]
  },
  {
   "cell_type": "code",
   "execution_count": 25,
   "id": "b755ff84-2394-490c-a929-1bf8614203d0",
   "metadata": {},
   "outputs": [
    {
     "name": "stdout",
     "output_type": "stream",
     "text": [
      "Before changing the b numpy\n",
      "a\n",
      "[[ 1  2  3  4  5]\n",
      " [ 6  7  8  9 10]]\n",
      "b\n",
      "[ 1  2  3  4  5  6  7  8  9 10]\n",
      "After changing the b numpy\n",
      "a\n",
      "[[ 1  2  3  4  5]\n",
      " [ 6  7  8  9 10]]\n",
      "b\n",
      "[ 1 20  3  4  5  6  7  8  9 10]\n"
     ]
    }
   ],
   "source": [
    "# Flatten example\n",
    "\n",
    "a=np.arange(1,11)\n",
    "a=a.reshape((2,5))\n",
    "b=a.flatten()\n",
    "print('Before changing the b numpy')\n",
    "print('a')\n",
    "print(a)\n",
    "print('b')\n",
    "print(b)\n",
    "b[1]=20\n",
    "print('After changing the b numpy')\n",
    "print('a')\n",
    "print(a)\n",
    "print('b')\n",
    "print(b)"
   ]
  },
  {
   "cell_type": "markdown",
   "id": "25b1f30d-a039-4d6f-9458-a1862a798fe4",
   "metadata": {},
   "source": [
    "##### If you look at the above the b changed but not a "
   ]
  },
  {
   "cell_type": "code",
   "execution_count": 28,
   "id": "1c7df262-5a15-4b37-84a1-14bc0e534f00",
   "metadata": {},
   "outputs": [
    {
     "name": "stdout",
     "output_type": "stream",
     "text": [
      "Before changing the b numpy\n",
      "a\n",
      "[[ 1  2  3  4  5]\n",
      " [ 6  7  8  9 10]]\n",
      "b\n",
      "[ 1  2  3  4  5  6  7  8  9 10]\n",
      "After changing the b numpy\n",
      "a\n",
      "[[ 1 20  3  4  5]\n",
      " [ 6  7  8  9 10]]\n",
      "b\n",
      "[ 1 20  3  4  5  6  7  8  9 10]\n"
     ]
    }
   ],
   "source": [
    "# ravel example\n",
    "\n",
    "a=np.arange(1,11)\n",
    "a=a.reshape((2,5))\n",
    "b=a.ravel()\n",
    "print('Before changing the b numpy')\n",
    "print('a')\n",
    "print(a)\n",
    "print('b')\n",
    "print(b)\n",
    "b[1]=20\n",
    "print('After changing the b numpy')\n",
    "print('a')\n",
    "print(a)\n",
    "print('b')\n",
    "print(b)"
   ]
  },
  {
   "cell_type": "markdown",
   "id": "f4792d66-58a8-4c1a-9d38-3f61712c1e73",
   "metadata": {},
   "source": [
    "##### If you look at the above the b changed also a "
   ]
  }
 ],
 "metadata": {
  "kernelspec": {
   "display_name": "Python 3 (ipykernel)",
   "language": "python",
   "name": "python3"
  },
  "language_info": {
   "codemirror_mode": {
    "name": "ipython",
    "version": 3
   },
   "file_extension": ".py",
   "mimetype": "text/x-python",
   "name": "python",
   "nbconvert_exporter": "python",
   "pygments_lexer": "ipython3",
   "version": "3.12.8"
  }
 },
 "nbformat": 4,
 "nbformat_minor": 5
}
