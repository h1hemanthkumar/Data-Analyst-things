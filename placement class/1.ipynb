{
 "cells": [
  {
   "cell_type": "code",
   "execution_count": 1,
   "id": "49af87b1-f5c1-4ff9-976f-3438ff4089a2",
   "metadata": {},
   "outputs": [
    {
     "name": "stdout",
     "output_type": "stream",
     "text": [
      "hemanth kumar is good boy\n"
     ]
    }
   ],
   "source": [
    "print(\"hemanth kumar is good boy\")"
   ]
  },
  {
   "cell_type": "code",
   "execution_count": 2,
   "id": "26e7c3d0-179f-45d1-8137-06e8dd46a7be",
   "metadata": {},
   "outputs": [],
   "source": [
    "Name=\"Hemanth\""
   ]
  },
  {
   "cell_type": "code",
   "execution_count": 3,
   "id": "edb9e8b7-491e-4ce6-ad80-51d9b7fbf635",
   "metadata": {},
   "outputs": [
    {
     "name": "stdout",
     "output_type": "stream",
     "text": [
      "Hemanth\n"
     ]
    }
   ],
   "source": [
    "print(Name)"
   ]
  },
  {
   "cell_type": "code",
   "execution_count": 4,
   "id": "61ad3fbc-305d-4d81-9167-ea6ddbb2997b",
   "metadata": {},
   "outputs": [
    {
     "name": "stdin",
     "output_type": "stream",
     "text": [
      "Enter the first number 5\n",
      "Enter the second number 6\n"
     ]
    },
    {
     "name": "stdout",
     "output_type": "stream",
     "text": [
      "The sum of two number is:11\n",
      "The average of two number is :5\n"
     ]
    }
   ],
   "source": [
    "num1=int(input(\"Enter the first number\"));\n",
    "num2=int(input(\"Enter the second number\"));\n",
    "\n",
    "summation=num1+num2;\n",
    "average=summation//2;\n",
    "\n",
    "print(f\"The sum of two number is:{summation}\")\n",
    "print(f\"The average of two number is :{average}\")"
   ]
  },
  {
   "cell_type": "code",
   "execution_count": 6,
   "id": "35f9191e-72c3-43c0-b15a-c5ba05ed3f6e",
   "metadata": {},
   "outputs": [
    {
     "name": "stdin",
     "output_type": "stream",
     "text": [
      "Enter the principal value:  5\n",
      "Enter the number of years:  6\n",
      "Enter the rate of the interest:  7\n"
     ]
    },
    {
     "name": "stdout",
     "output_type": "stream",
     "text": [
      "The simple interest is 2.1\n"
     ]
    }
   ],
   "source": [
    "# write the program to calculatye simple interest by accepting requred infromation from the user \n",
    "\n",
    "principal=int(input(\"Enter the principal value: \"))\n",
    "Time=int(input(\"Enter the number of years: \"))\n",
    "rate=int(input(\"Enter the rate of the interest: \"))\n",
    "\n",
    "print(f\"The simple interest is { principal*Time*rate/100 }\")"
   ]
  },
  {
   "cell_type": "code",
   "execution_count": null,
   "id": "9a37e6ff-ad10-4fc4-b670-b3108f84ac54",
   "metadata": {},
   "outputs": [],
   "source": []
  }
 ],
 "metadata": {
  "kernelspec": {
   "display_name": "Python 3 (ipykernel)",
   "language": "python",
   "name": "python3"
  },
  "language_info": {
   "codemirror_mode": {
    "name": "ipython",
    "version": 3
   },
   "file_extension": ".py",
   "mimetype": "text/x-python",
   "name": "python",
   "nbconvert_exporter": "python",
   "pygments_lexer": "ipython3",
   "version": "3.12.8"
  }
 },
 "nbformat": 4,
 "nbformat_minor": 5
}
