{
 "cells": [
  {
   "cell_type": "raw",
   "id": "cd359e19-da79-4378-9a1e-2121e4efb1be",
   "metadata": {},
   "source": [
    "Numpy joining consisting of many of methods \n",
    "\n",
    "* concatenate\n",
    "* stack\n",
    "* hstack"
   ]
  },
  {
   "cell_type": "code",
   "execution_count": 13,
   "id": "669d15f9-3235-482f-a348-67b8cd8d5ae2",
   "metadata": {},
   "outputs": [
    {
     "name": "stdout",
     "output_type": "stream",
     "text": [
      "[[1 2 3]\n",
      " [4 5 6]]\n"
     ]
    }
   ],
   "source": [
    "# Usual concatination with no parameter this is similer to axis 0 that is row concatenate\n",
    "\n",
    "import numpy as np\n",
    "\n",
    "arr1=np.array([[1,2,3]])\n",
    "arr2=np.array([[4,5,6]])\n",
    "\n",
    "print(np.concatenate((arr1,arr2)))"
   ]
  },
  {
   "cell_type": "code",
   "execution_count": 12,
   "id": "19fa4ce5-49fb-43b6-a78c-fea552384f0f",
   "metadata": {},
   "outputs": [
    {
     "name": "stdout",
     "output_type": "stream",
     "text": [
      "[[1 2 3]\n",
      " [4 5 6]]\n"
     ]
    }
   ],
   "source": [
    "# Concatination with axis as 0 that is row concatenation\n",
    "\n",
    "import numpy as np\n",
    "\n",
    "arr1=np.array([[1,2,3]])\n",
    "arr2=np.array([[4,5,6]])\n",
    "\n",
    "print(np.concatenate((arr1,arr2),axis=0))"
   ]
  },
  {
   "cell_type": "code",
   "execution_count": 11,
   "id": "056cb4f1-4d24-49bc-b98d-c7d8c49012ba",
   "metadata": {},
   "outputs": [
    {
     "name": "stdout",
     "output_type": "stream",
     "text": [
      "[[1 2 3 3 4 5]\n",
      " [2 3 4 4 5 6]]\n"
     ]
    }
   ],
   "source": [
    "# Concatination with axis as 1 that is column concatenation\n",
    "\n",
    "import numpy as np \n",
    "\n",
    "arr1=np.array([[1,2,3],[2,3,4]])\n",
    "arr2=np.array([[3,4,5],[4,5,6]])\n",
    "\n",
    "print(np.concatenate((arr1,arr2),axis=1))"
   ]
  },
  {
   "cell_type": "code",
   "execution_count": null,
   "id": "85f3b588-73d6-456d-b6e3-ac5daf402a16",
   "metadata": {},
   "outputs": [],
   "source": []
  }
 ],
 "metadata": {
  "kernelspec": {
   "display_name": "Python 3 (ipykernel)",
   "language": "python",
   "name": "python3"
  },
  "language_info": {
   "codemirror_mode": {
    "name": "ipython",
    "version": 3
   },
   "file_extension": ".py",
   "mimetype": "text/x-python",
   "name": "python",
   "nbconvert_exporter": "python",
   "pygments_lexer": "ipython3",
   "version": "3.12.7"
  }
 },
 "nbformat": 4,
 "nbformat_minor": 5
}
