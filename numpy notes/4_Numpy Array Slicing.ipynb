{
 "cells": [
  {
   "cell_type": "code",
   "execution_count": 2,
   "id": "561450a8-8ae8-4eab-b905-e003d55d9b63",
   "metadata": {},
   "outputs": [
    {
     "name": "stdout",
     "output_type": "stream",
     "text": [
      "[2 3]\n"
     ]
    }
   ],
   "source": [
    "# In numpy array can also be sliced based on our requirement \n",
    "\n",
    "import numpy as np\n",
    "\n",
    "value=np.array([1,2,3,4,5])\n",
    "\n",
    "print(value[1:3]) # This is simple slicing that occurs in python language as well "
   ]
  },
  {
   "cell_type": "code",
   "execution_count": 5,
   "id": "a8278d5c-0d55-4e3c-b6f6-902d5424ab56",
   "metadata": {},
   "outputs": [
    {
     "name": "stdout",
     "output_type": "stream",
     "text": [
      "[ 2  4  6  8 10]\n"
     ]
    }
   ],
   "source": [
    "# Step slicing \n",
    "\n",
    "# slicing sytax is like value[a:b:c] where c is the step that means if u specify 2 the first element will be printed and from that the 2nd element will will printed and from that and next 2nd element will be printed and goes on \n",
    "\n",
    "value=np.array([1,2,3,4,5,6,7,8,9,10])\n",
    "\n",
    "print(value[1::2])  # This prints the even index "
   ]
  },
  {
   "cell_type": "code",
   "execution_count": 6,
   "id": "7e406d16-96bc-46a0-a0dd-f281731a51d9",
   "metadata": {},
   "outputs": [
    {
     "name": "stdout",
     "output_type": "stream",
     "text": [
      "[2 5]\n"
     ]
    }
   ],
   "source": [
    "value=np.array([1,2,3,4,5,6,7,8,9])\n",
    "\n",
    "print(value[1:5:3])"
   ]
  },
  {
   "cell_type": "code",
   "execution_count": 8,
   "id": "d2866ba2-8a25-4c63-a73b-0372a54c25d8",
   "metadata": {},
   "outputs": [
    {
     "name": "stdout",
     "output_type": "stream",
     "text": [
      "[6 8]\n"
     ]
    }
   ],
   "source": [
    "# Negative indexing is also possible \n",
    "\n",
    "print(value[-4:-1:2])"
   ]
  }
 ],
 "metadata": {
  "kernelspec": {
   "display_name": "Python 3 (ipykernel)",
   "language": "python",
   "name": "python3"
  },
  "language_info": {
   "codemirror_mode": {
    "name": "ipython",
    "version": 3
   },
   "file_extension": ".py",
   "mimetype": "text/x-python",
   "name": "python",
   "nbconvert_exporter": "python",
   "pygments_lexer": "ipython3",
   "version": "3.12.7"
  }
 },
 "nbformat": 4,
 "nbformat_minor": 5
}
