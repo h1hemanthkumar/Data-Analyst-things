{
 "cells": [
  {
   "cell_type": "code",
   "execution_count": 2,
   "id": "f4e2d1bc-822a-4b33-b74d-da8013857fb1",
   "metadata": {},
   "outputs": [],
   "source": [
    "# To install numpy version \n",
    "\n",
    "# >> pip install numpy "
   ]
  },
  {
   "cell_type": "code",
   "execution_count": 3,
   "id": "f8c7f770-f61a-4d13-aa9d-8d06c66afa95",
   "metadata": {},
   "outputs": [
    {
     "name": "stdout",
     "output_type": "stream",
     "text": [
      "1.26.4\n"
     ]
    }
   ],
   "source": [
    "# To check the version of the numpy \n",
    "\n",
    "import numpy as np\n",
    "\n",
    "print(np.__version__);"
   ]
  },
  {
   "cell_type": "code",
   "execution_count": 5,
   "id": "acb498f3-e17a-4b86-8d1e-4b38256721cc",
   "metadata": {},
   "outputs": [
    {
     "name": "stdout",
     "output_type": "stream",
     "text": [
      "[1 2 3]\n"
     ]
    }
   ],
   "source": [
    "# To import numpy library in jupyter without alias \n",
    "\n",
    "import numpy \n",
    "\n",
    "value=numpy.array([1,2,3]);\n",
    "\n",
    "print(value);"
   ]
  },
  {
   "cell_type": "code",
   "execution_count": 6,
   "id": "b60a1576-fef2-4877-a935-a857e39a1cad",
   "metadata": {},
   "outputs": [
    {
     "name": "stdout",
     "output_type": "stream",
     "text": [
      "[1 2 3]\n"
     ]
    }
   ],
   "source": [
    "# To import numpy library in jupyter using alias\n",
    "\n",
    "# Alias is used to for faster usage like numpy->np \n",
    "\n",
    "import numpy as np \n",
    "\n",
    "value=np.array([1,2,3]);\n",
    "\n",
    "print(value);"
   ]
  }
 ],
 "metadata": {
  "kernelspec": {
   "display_name": "Python 3 (ipykernel)",
   "language": "python",
   "name": "python3"
  },
  "language_info": {
   "codemirror_mode": {
    "name": "ipython",
    "version": 3
   },
   "file_extension": ".py",
   "mimetype": "text/x-python",
   "name": "python",
   "nbconvert_exporter": "python",
   "pygments_lexer": "ipython3",
   "version": "3.12.7"
  }
 },
 "nbformat": 4,
 "nbformat_minor": 5
}
