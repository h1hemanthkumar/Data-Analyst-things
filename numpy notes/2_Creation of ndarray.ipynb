{
 "cells": [
  {
   "cell_type": "code",
   "execution_count": 2,
   "id": "2c2192e0-e077-482a-b6b7-68f854d3e33d",
   "metadata": {},
   "outputs": [
    {
     "name": "stdout",
     "output_type": "stream",
     "text": [
      "[1 2 3]\n",
      "<class 'numpy.ndarray'>\n"
     ]
    }
   ],
   "source": [
    "# To check the type of numpy\n",
    "\n",
    "import numpy as np \n",
    "\n",
    "values=np.array([1,2,3]);\n",
    "\n",
    "print(values);\n",
    "\n",
    "print(type(values));"
   ]
  },
  {
   "cell_type": "code",
   "execution_count": 4,
   "id": "48660d3a-e035-4757-9bd1-0f89dc91de42",
   "metadata": {},
   "outputs": [
    {
     "name": "stdout",
     "output_type": "stream",
     "text": [
      "[1 2 3]\n",
      "<class 'numpy.ndarray'>\n"
     ]
    }
   ],
   "source": [
    "# Creation of 1d array using numpy library\n",
    "\n",
    "# Array can also be created using tuples \n",
    "\n",
    "import numpy as np \n",
    "\n",
    "values=np.array((1,2,3));\n",
    "\n",
    "print(values);\n",
    "print(type(values));"
   ]
  },
  {
   "cell_type": "code",
   "execution_count": 1,
   "id": "06bf5918-b7e5-41de-a65b-d9d0c7ccf78e",
   "metadata": {},
   "outputs": [
    {
     "name": "stdout",
     "output_type": "stream",
     "text": [
      "1\n"
     ]
    }
   ],
   "source": [
    "# Creation of 0d array using numpy library\n",
    "\n",
    "# 0-D arrays, or Scalars, are the elements in an array. Each value in an array is a 0-D array.\n",
    "\n",
    "import numpy as np \n",
    "\n",
    "values=np.array(1);\n",
    "\n",
    "print(values)"
   ]
  },
  {
   "cell_type": "code",
   "execution_count": 2,
   "id": "4d3cb411-bdc4-4643-8e53-7e7364dc30c0",
   "metadata": {},
   "outputs": [
    {
     "name": "stdout",
     "output_type": "stream",
     "text": [
      "[1 2 3 4]\n"
     ]
    }
   ],
   "source": [
    "# Creation of 1d array using numpy library\n",
    "\n",
    "# 1-d array consisting of 0-d array as the element in it\n",
    "\n",
    "import numpy as np\n",
    "\n",
    "values=np.array([1,2,3,4])\n",
    "\n",
    "print(values)"
   ]
  },
  {
   "cell_type": "code",
   "execution_count": 5,
   "id": "bdf8dc85-9f36-48d2-8d69-2a8305bce84d",
   "metadata": {},
   "outputs": [
    {
     "name": "stdout",
     "output_type": "stream",
     "text": [
      "[[1 2 3]\n",
      " [4 5 6]]\n"
     ]
    }
   ],
   "source": [
    "# Creation of 2d array using numpy library\n",
    "\n",
    "# 2-d array consisting of 1-d array as the element in it \n",
    "\n",
    "import numpy as np \n",
    "\n",
    "values=np.array([[1,2,3],[4,5,6]])\n",
    "\n",
    "print(values)"
   ]
  },
  {
   "cell_type": "code",
   "execution_count": 6,
   "id": "1283d239-5f32-4b1d-a9e3-3fe1c79de676",
   "metadata": {},
   "outputs": [
    {
     "name": "stdout",
     "output_type": "stream",
     "text": [
      "[[[1 2 3]\n",
      "  [4 5 6]]\n",
      "\n",
      " [[7 8 9]\n",
      "  [1 2 3]]]\n"
     ]
    }
   ],
   "source": [
    "# Creation of 3d array using numpy library\n",
    "\n",
    "# 3-d array consisting of 2-d array as the element in it \n",
    "\n",
    "import numpy as np\n",
    "\n",
    "values=np.array([[[1,2,3],[4,5,6]],[[7,8,9],[1,2,3]]])\n",
    "\n",
    "print(values)"
   ]
  },
  {
   "cell_type": "code",
   "execution_count": 7,
   "id": "c81eb031-b476-4be5-8c6c-6a5b29ff3b71",
   "metadata": {},
   "outputs": [
    {
     "name": "stdout",
     "output_type": "stream",
     "text": [
      "0\n",
      "1\n",
      "2\n",
      "3\n"
     ]
    }
   ],
   "source": [
    "# To check the dimension of the numpy array element numpyarray.ndim is used\n",
    "\n",
    "import numpy as np\n",
    "\n",
    "a = np.array(42)\n",
    "b = np.array([1, 2, 3, 4, 5])\n",
    "c = np.array([[1, 2, 3], [4, 5, 6]])\n",
    "d = np.array([[[1, 2, 3], [4, 5, 6]], [[1, 2, 3], [4, 5, 6]]])\n",
    "\n",
    "print(a.ndim)\n",
    "print(b.ndim)\n",
    "print(c.ndim)\n",
    "print(d.ndim)"
   ]
  },
  {
   "cell_type": "code",
   "execution_count": 8,
   "id": "be59722e-ce48-4add-ae90-b224eadd0365",
   "metadata": {},
   "outputs": [
    {
     "name": "stdout",
     "output_type": "stream",
     "text": [
      "[[[[[1 2 3 4]]]]]\n",
      "number of dimensions : 5\n"
     ]
    }
   ],
   "source": [
    "# Higher Dimensional Arrays\n",
    "# An array can have any number of dimensions.\n",
    "\n",
    "# When the array is created, you can define the number of dimensions by using the ndmin argument.\n",
    "\n",
    "import numpy as np\n",
    "\n",
    "arr = np.array([1, 2, 3, 4], ndmin=5)\n",
    "\n",
    "print(arr)\n",
    "print('number of dimensions :', arr.ndim)"
   ]
  }
 ],
 "metadata": {
  "kernelspec": {
   "display_name": "Python 3 (ipykernel)",
   "language": "python",
   "name": "python3"
  },
  "language_info": {
   "codemirror_mode": {
    "name": "ipython",
    "version": 3
   },
   "file_extension": ".py",
   "mimetype": "text/x-python",
   "name": "python",
   "nbconvert_exporter": "python",
   "pygments_lexer": "ipython3",
   "version": "3.12.7"
  }
 },
 "nbformat": 4,
 "nbformat_minor": 5
}
