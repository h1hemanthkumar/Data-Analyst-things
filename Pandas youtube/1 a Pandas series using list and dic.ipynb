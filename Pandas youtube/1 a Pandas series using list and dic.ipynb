{
 "cells": [
  {
   "cell_type": "markdown",
   "id": "8d12ce2a-d749-4e4b-b3bd-bf663f9fb47f",
   "metadata": {},
   "source": [
    "# Importing of pandas and checking the version"
   ]
  },
  {
   "cell_type": "code",
   "execution_count": 6,
   "id": "77f25088-3464-42cb-8365-6111a5fa1d6a",
   "metadata": {},
   "outputs": [],
   "source": [
    "import pandas as pd"
   ]
  },
  {
   "cell_type": "code",
   "execution_count": 7,
   "id": "a9cd5abc-b719-4aed-bd13-779c297e35cb",
   "metadata": {},
   "outputs": [
    {
     "data": {
      "text/plain": [
       "'2.2.3'"
      ]
     },
     "execution_count": 7,
     "metadata": {},
     "output_type": "execute_result"
    }
   ],
   "source": [
    "pd.__version__"
   ]
  },
  {
   "cell_type": "markdown",
   "id": "2861f1bd-eaeb-4aad-8573-9103b2832824",
   "metadata": {},
   "source": [
    "# Pandas series using list\n",
    "\n",
    "##### A Pandas Series is a one-dimensional array-like object that can hold data of any type (integers, strings, floats, etc.) and is labeled by an index. It is similar to a Python list, but it offers more functionality, like working with labeled data and vectorized operations."
   ]
  },
  {
   "cell_type": "code",
   "execution_count": 8,
   "id": "83c21f0f-7e19-4c76-8734-50ae7aa4f91a",
   "metadata": {},
   "outputs": [
    {
     "name": "stdout",
     "output_type": "stream",
     "text": [
      "0    1\n",
      "1    2\n",
      "2    3\n",
      "3    4\n",
      "4    5\n",
      "dtype: int64\n"
     ]
    }
   ],
   "source": [
    "my_list=[1,2,3,4,5]\n",
    "\n",
    "my_series=pd.Series(my_list) # it stores the list with the index value look below \n",
    "\n",
    "print(my_series) # dtype in the output represent the type of the data the list consisting of"
   ]
  },
  {
   "cell_type": "code",
   "execution_count": 9,
   "id": "fb02b19b-f828-44d0-a077-8761b8886062",
   "metadata": {},
   "outputs": [
    {
     "data": {
      "text/plain": [
       "pandas.core.series.Series"
      ]
     },
     "execution_count": 9,
     "metadata": {},
     "output_type": "execute_result"
    }
   ],
   "source": [
    "# type() of the series will be \n",
    "\n",
    "type(my_series)"
   ]
  },
  {
   "cell_type": "code",
   "execution_count": 10,
   "id": "79bf5fab-732c-4eda-9a2d-2c4f6fe1907c",
   "metadata": {},
   "outputs": [
    {
     "name": "stdout",
     "output_type": "stream",
     "text": [
      "Series([], dtype: object)\n"
     ]
    }
   ],
   "source": [
    "# To create empty series just live it empty\n",
    "\n",
    "empty_list=[]\n",
    "\n",
    "empty_series=pd.Series(empty_list) # or directly pd.Series([])\n",
    "\n",
    "print(empty_series)"
   ]
  },
  {
   "cell_type": "markdown",
   "id": "9531c71f-daf3-47c0-b907-4b291e134cfc",
   "metadata": {},
   "source": [
    "#### Custom series \n",
    "\n",
    "##### It is used when you only providing the label for which the list element should be assigned "
   ]
  },
  {
   "cell_type": "code",
   "execution_count": 11,
   "id": "4d12bd6d-e3bb-4e3b-9484-afdc0300f863",
   "metadata": {},
   "outputs": [
    {
     "name": "stdout",
     "output_type": "stream",
     "text": [
      "a    1\n",
      "b    2\n",
      "c    3\n",
      "d    4\n",
      "e    5\n",
      "f    6\n",
      "dtype: int64\n"
     ]
    }
   ],
   "source": [
    "mylist=[1,2,3,4,5,6]\n",
    "mylabel=['a','b','c','d','e','f']\n",
    "\n",
    "mycustomseries=pd.Series(mylist,index=mylabel)\n",
    "\n",
    "print(mycustomseries)"
   ]
  },
  {
   "cell_type": "code",
   "execution_count": 12,
   "id": "9026c694-8c99-4995-b6e4-b41f074b37bf",
   "metadata": {},
   "outputs": [
    {
     "ename": "ValueError",
     "evalue": "Length of values (6) does not match length of index (5)",
     "output_type": "error",
     "traceback": [
      "\u001b[1;31m---------------------------------------------------------------------------\u001b[0m",
      "\u001b[1;31mValueError\u001b[0m                                Traceback (most recent call last)",
      "Cell \u001b[1;32mIn[12], line 4\u001b[0m\n\u001b[0;32m      1\u001b[0m mylist\u001b[38;5;241m=\u001b[39m[\u001b[38;5;241m1\u001b[39m,\u001b[38;5;241m2\u001b[39m,\u001b[38;5;241m3\u001b[39m,\u001b[38;5;241m4\u001b[39m,\u001b[38;5;241m5\u001b[39m,\u001b[38;5;241m6\u001b[39m]\n\u001b[0;32m      2\u001b[0m mylabel\u001b[38;5;241m=\u001b[39m[\u001b[38;5;124m'\u001b[39m\u001b[38;5;124ma\u001b[39m\u001b[38;5;124m'\u001b[39m,\u001b[38;5;124m'\u001b[39m\u001b[38;5;124mb\u001b[39m\u001b[38;5;124m'\u001b[39m,\u001b[38;5;124m'\u001b[39m\u001b[38;5;124mc\u001b[39m\u001b[38;5;124m'\u001b[39m,\u001b[38;5;124m'\u001b[39m\u001b[38;5;124md\u001b[39m\u001b[38;5;124m'\u001b[39m,\u001b[38;5;124m'\u001b[39m\u001b[38;5;124me\u001b[39m\u001b[38;5;124m'\u001b[39m]\n\u001b[1;32m----> 4\u001b[0m mycustomseries\u001b[38;5;241m=\u001b[39m\u001b[43mpd\u001b[49m\u001b[38;5;241;43m.\u001b[39;49m\u001b[43mSeries\u001b[49m\u001b[43m(\u001b[49m\u001b[43mmylist\u001b[49m\u001b[43m,\u001b[49m\u001b[43mindex\u001b[49m\u001b[38;5;241;43m=\u001b[39;49m\u001b[43mmylabel\u001b[49m\u001b[43m)\u001b[49m \u001b[38;5;66;03m# if there is no current number of label is provided the error will occur look above for 6 element in the list there are 5 label so error occured\u001b[39;00m\n\u001b[0;32m      6\u001b[0m \u001b[38;5;28mprint\u001b[39m(mycustomseries)\n",
      "File \u001b[1;32m~\\AppData\\Local\\Packages\\PythonSoftwareFoundation.Python.3.12_qbz5n2kfra8p0\\LocalCache\\local-packages\\Python312\\site-packages\\pandas\\core\\series.py:575\u001b[0m, in \u001b[0;36mSeries.__init__\u001b[1;34m(self, data, index, dtype, name, copy, fastpath)\u001b[0m\n\u001b[0;32m    573\u001b[0m     index \u001b[38;5;241m=\u001b[39m default_index(\u001b[38;5;28mlen\u001b[39m(data))\n\u001b[0;32m    574\u001b[0m \u001b[38;5;28;01melif\u001b[39;00m is_list_like(data):\n\u001b[1;32m--> 575\u001b[0m     \u001b[43mcom\u001b[49m\u001b[38;5;241;43m.\u001b[39;49m\u001b[43mrequire_length_match\u001b[49m\u001b[43m(\u001b[49m\u001b[43mdata\u001b[49m\u001b[43m,\u001b[49m\u001b[43m \u001b[49m\u001b[43mindex\u001b[49m\u001b[43m)\u001b[49m\n\u001b[0;32m    577\u001b[0m \u001b[38;5;66;03m# create/copy the manager\u001b[39;00m\n\u001b[0;32m    578\u001b[0m \u001b[38;5;28;01mif\u001b[39;00m \u001b[38;5;28misinstance\u001b[39m(data, (SingleBlockManager, SingleArrayManager)):\n",
      "File \u001b[1;32m~\\AppData\\Local\\Packages\\PythonSoftwareFoundation.Python.3.12_qbz5n2kfra8p0\\LocalCache\\local-packages\\Python312\\site-packages\\pandas\\core\\common.py:573\u001b[0m, in \u001b[0;36mrequire_length_match\u001b[1;34m(data, index)\u001b[0m\n\u001b[0;32m    569\u001b[0m \u001b[38;5;250m\u001b[39m\u001b[38;5;124;03m\"\"\"\u001b[39;00m\n\u001b[0;32m    570\u001b[0m \u001b[38;5;124;03mCheck the length of data matches the length of the index.\u001b[39;00m\n\u001b[0;32m    571\u001b[0m \u001b[38;5;124;03m\"\"\"\u001b[39;00m\n\u001b[0;32m    572\u001b[0m \u001b[38;5;28;01mif\u001b[39;00m \u001b[38;5;28mlen\u001b[39m(data) \u001b[38;5;241m!=\u001b[39m \u001b[38;5;28mlen\u001b[39m(index):\n\u001b[1;32m--> 573\u001b[0m     \u001b[38;5;28;01mraise\u001b[39;00m \u001b[38;5;167;01mValueError\u001b[39;00m(\n\u001b[0;32m    574\u001b[0m         \u001b[38;5;124m\"\u001b[39m\u001b[38;5;124mLength of values \u001b[39m\u001b[38;5;124m\"\u001b[39m\n\u001b[0;32m    575\u001b[0m         \u001b[38;5;124mf\u001b[39m\u001b[38;5;124m\"\u001b[39m\u001b[38;5;124m(\u001b[39m\u001b[38;5;132;01m{\u001b[39;00m\u001b[38;5;28mlen\u001b[39m(data)\u001b[38;5;132;01m}\u001b[39;00m\u001b[38;5;124m) \u001b[39m\u001b[38;5;124m\"\u001b[39m\n\u001b[0;32m    576\u001b[0m         \u001b[38;5;124m\"\u001b[39m\u001b[38;5;124mdoes not match length of index \u001b[39m\u001b[38;5;124m\"\u001b[39m\n\u001b[0;32m    577\u001b[0m         \u001b[38;5;124mf\u001b[39m\u001b[38;5;124m\"\u001b[39m\u001b[38;5;124m(\u001b[39m\u001b[38;5;132;01m{\u001b[39;00m\u001b[38;5;28mlen\u001b[39m(index)\u001b[38;5;132;01m}\u001b[39;00m\u001b[38;5;124m)\u001b[39m\u001b[38;5;124m\"\u001b[39m\n\u001b[0;32m    578\u001b[0m     )\n",
      "\u001b[1;31mValueError\u001b[0m: Length of values (6) does not match length of index (5)"
     ]
    }
   ],
   "source": [
    "mylist=[1,2,3,4,5,6]\n",
    "mylabel=['a','b','c','d','e']\n",
    "\n",
    "mycustomseries=pd.Series(mylist,index=mylabel) # if there is no current number of label is provided the error will occur look above for 6 element in the list there are 5 label so error occured\n",
    "\n",
    "print(mycustomseries)"
   ]
  },
  {
   "cell_type": "code",
   "execution_count": null,
   "id": "13534fef-6e21-491b-86e0-d4ba0f7f4798",
   "metadata": {},
   "outputs": [],
   "source": [
    "mylist=[1,2,3,4,5]\n",
    "mylabel=['a','b','c','d','e','f']\n",
    "\n",
    "mycustomseries=pd.Series(mylist,index=mylabel) # it is same for mylist also more label but less list element\n",
    "\n",
    "\n",
    "print(mycustomseries)"
   ]
  },
  {
   "cell_type": "code",
   "execution_count": 13,
   "id": "65882d83-da7d-4d19-a04a-066af0b6c428",
   "metadata": {},
   "outputs": [
    {
     "name": "stdout",
     "output_type": "stream",
     "text": [
      "0    1\n",
      "1    2\n",
      "2    3\n",
      "3    4\n",
      "4    5\n",
      "5    6\n",
      "dtype: int64\n",
      "The element at index 4 is 5\n"
     ]
    }
   ],
   "source": [
    "# Accessing of series element \n",
    "\n",
    "mylist=[1,2,3,4,5,6]\n",
    "\n",
    "myseries=pd.Series(mylist)\n",
    "\n",
    "print(myseries)\n",
    "\n",
    "print(f\"The element at index 4 is {myseries[4]}\")"
   ]
  },
  {
   "cell_type": "code",
   "execution_count": 14,
   "id": "5d440018-d256-4ce2-b1a5-26be0d44ab6c",
   "metadata": {},
   "outputs": [
    {
     "name": "stdout",
     "output_type": "stream",
     "text": [
      "a    1\n",
      "b    2\n",
      "c    3\n",
      "d    4\n",
      "e    5\n",
      "f    6\n",
      "dtype: int64\n",
      "The element at index c is 3\n"
     ]
    }
   ],
   "source": [
    "# Accessing of series element with custom series\n",
    "\n",
    "mylist=[1,2,3,4,5,6]\n",
    "mylabel=['a','b','c','d','e','f']\n",
    "\n",
    "mycustomseries=pd.Series(mylist,index=mylabel)\n",
    "\n",
    "print(mycustomseries)\n",
    "\n",
    "print(f\"The element at index c is {mycustomseries['c']}\")"
   ]
  },
  {
   "cell_type": "code",
   "execution_count": 15,
   "id": "478381a3-ec4f-417e-9ba8-b2b70c537cd5",
   "metadata": {},
   "outputs": [
    {
     "data": {
      "text/plain": [
       "0    1\n",
       "1    2\n",
       "2    3\n",
       "3    4\n",
       "4    5\n",
       "Name: Hemanth data, dtype: int64"
      ]
     },
     "execution_count": 15,
     "metadata": {},
     "output_type": "execute_result"
    }
   ],
   "source": [
    "# Naming of series \n",
    "\n",
    "# it is prvoiding the name for the series\n",
    "\n",
    "mylist=[1,2,3,4,5]\n",
    "myseries=pd.Series(mylist,name=\"Hemanth data\")\n",
    "\n",
    "myseries"
   ]
  },
  {
   "cell_type": "markdown",
   "id": "b13c828f-9544-4924-a280-34ccd82aa742",
   "metadata": {},
   "source": [
    "#### Vectorized Operations\n",
    "\n",
    "##### it is like mathematic operation of specific value"
   ]
  },
  {
   "cell_type": "code",
   "execution_count": 16,
   "id": "3421cf30-25a4-424c-894b-a0599438d90f",
   "metadata": {},
   "outputs": [
    {
     "data": {
      "text/plain": [
       "0     6\n",
       "1     7\n",
       "2     8\n",
       "3     9\n",
       "4    10\n",
       "5    11\n",
       "dtype: int64"
      ]
     },
     "execution_count": 16,
     "metadata": {},
     "output_type": "execute_result"
    }
   ],
   "source": [
    "myseries=pd.Series([1,2,3,4,5,6])\n",
    "\n",
    "myseries+5"
   ]
  },
  {
   "cell_type": "code",
   "execution_count": 17,
   "id": "087a5cc7-5452-44b7-a187-936fd32dee41",
   "metadata": {},
   "outputs": [
    {
     "data": {
      "text/plain": [
       "0   -4\n",
       "1   -3\n",
       "2   -2\n",
       "3   -1\n",
       "4    0\n",
       "5    1\n",
       "dtype: int64"
      ]
     },
     "execution_count": 17,
     "metadata": {},
     "output_type": "execute_result"
    }
   ],
   "source": [
    "myseries-5"
   ]
  },
  {
   "cell_type": "code",
   "execution_count": 18,
   "id": "60a542df-e4f3-407f-bad9-3a12b1b0cd35",
   "metadata": {},
   "outputs": [
    {
     "data": {
      "text/plain": [
       "0     2\n",
       "1     4\n",
       "2     6\n",
       "3     8\n",
       "4    10\n",
       "5    12\n",
       "dtype: int64"
      ]
     },
     "execution_count": 18,
     "metadata": {},
     "output_type": "execute_result"
    }
   ],
   "source": [
    "myseries*2"
   ]
  },
  {
   "cell_type": "code",
   "execution_count": 19,
   "id": "50a21167-0e0a-457e-b3ac-3fbc9747a9ea",
   "metadata": {},
   "outputs": [
    {
     "data": {
      "text/plain": [
       "0    0.5\n",
       "1    1.0\n",
       "2    1.5\n",
       "3    2.0\n",
       "4    2.5\n",
       "5    3.0\n",
       "dtype: float64"
      ]
     },
     "execution_count": 19,
     "metadata": {},
     "output_type": "execute_result"
    }
   ],
   "source": [
    "myseries/2"
   ]
  },
  {
   "cell_type": "code",
   "execution_count": 20,
   "id": "c6fb604a-0b96-49b8-968a-94618ca39d0e",
   "metadata": {},
   "outputs": [
    {
     "data": {
      "text/plain": [
       "0    0\n",
       "1    1\n",
       "2    1\n",
       "3    2\n",
       "4    2\n",
       "5    3\n",
       "dtype: int64"
      ]
     },
     "execution_count": 20,
     "metadata": {},
     "output_type": "execute_result"
    }
   ],
   "source": [
    "myseries//2"
   ]
  },
  {
   "cell_type": "code",
   "execution_count": 21,
   "id": "db46bf1f-2416-4dc3-9a59-59d9c49bd51b",
   "metadata": {},
   "outputs": [
    {
     "data": {
      "text/plain": [
       "0    1\n",
       "1    0\n",
       "2    1\n",
       "3    0\n",
       "4    1\n",
       "5    0\n",
       "dtype: int64"
      ]
     },
     "execution_count": 21,
     "metadata": {},
     "output_type": "execute_result"
    }
   ],
   "source": [
    "myseries%2"
   ]
  },
  {
   "cell_type": "markdown",
   "id": "b414a44c-5764-4fc9-8de0-1966f1a01046",
   "metadata": {},
   "source": [
    "#### Filtering\n",
    "\n",
    "##### This is something like using comparitor operator and getting data for example whose marks is greater than 90 or percentage greater than 90"
   ]
  },
  {
   "cell_type": "code",
   "execution_count": 22,
   "id": "6df43935-ce8e-4a80-a4ce-d2bf1ccc8430",
   "metadata": {},
   "outputs": [
    {
     "data": {
      "text/plain": [
       "2    80\n",
       "3    95\n",
       "5    70\n",
       "6    65\n",
       "dtype: int64"
      ]
     },
     "execution_count": 22,
     "metadata": {},
     "output_type": "execute_result"
    }
   ],
   "source": [
    "myseries=pd.Series([30,50,80,95,45,70,65])\n",
    "\n",
    "myseries[myseries>60]"
   ]
  },
  {
   "cell_type": "code",
   "execution_count": 23,
   "id": "2cc63f69-f98b-4944-80d3-d632a54b516c",
   "metadata": {},
   "outputs": [
    {
     "data": {
      "text/plain": [
       "3    95\n",
       "Name: Topper like you, dtype: int64"
      ]
     },
     "execution_count": 23,
     "metadata": {},
     "output_type": "execute_result"
    }
   ],
   "source": [
    "distinction=myseries[myseries>=85]\n",
    "\n",
    "distinction.name=\"Topper like you\"\n",
    "\n",
    "distinction"
   ]
  },
  {
   "cell_type": "markdown",
   "id": "82c283f9-6d25-458c-87e0-88ae37ecd461",
   "metadata": {},
   "source": [
    "#### Converting a Series Back to a List"
   ]
  },
  {
   "cell_type": "code",
   "execution_count": 24,
   "id": "4a3b2de9-1b7a-47ab-bae6-3b7ed6b3c0ec",
   "metadata": {},
   "outputs": [
    {
     "data": {
      "text/plain": [
       "[95]"
      ]
     },
     "execution_count": 24,
     "metadata": {},
     "output_type": "execute_result"
    }
   ],
   "source": [
    "distinctionlist=distinction.tolist();\n",
    "\n",
    "distinctionlist"
   ]
  },
  {
   "cell_type": "markdown",
   "id": "a92dd2c5-b937-44a9-a73e-c5c7974324aa",
   "metadata": {},
   "source": [
    "### Scalar Series\n",
    "\n",
    "##### A scalar Series in Pandas is a Series created from a single scalar value, where the same value is repeated for all indices. Essentially, it allows you to create a Series with a constant value across multiple indices."
   ]
  },
  {
   "cell_type": "code",
   "execution_count": 25,
   "id": "545a2b9c-4f3f-451b-b577-79897aa56b6c",
   "metadata": {},
   "outputs": [
    {
     "name": "stdout",
     "output_type": "stream",
     "text": [
      "a    5\n",
      "b    5\n",
      "c    5\n",
      "d    5\n",
      "dtype: int64\n"
     ]
    }
   ],
   "source": [
    "import pandas as pd\n",
    "\n",
    "scalar_series = pd.Series(5, index=['a', 'b', 'c', 'd'])\n",
    "\n",
    "print(scalar_series)"
   ]
  },
  {
   "cell_type": "code",
   "execution_count": 26,
   "id": "f759bf6b-6014-4979-aa18-2e1a5821d34c",
   "metadata": {},
   "outputs": [
    {
     "name": "stdout",
     "output_type": "stream",
     "text": [
      "1    Hello\n",
      "2    Hello\n",
      "3    Hello\n",
      "4    Hello\n",
      "dtype: object\n"
     ]
    }
   ],
   "source": [
    "scalar_series = pd.Series(\"Hello\", index=[1, 2, 3, 4])\n",
    "\n",
    "print(scalar_series)"
   ]
  },
  {
   "cell_type": "code",
   "execution_count": 37,
   "id": "a9b983d1-2486-4289-8ed2-f497995e2a26",
   "metadata": {},
   "outputs": [
    {
     "name": "stdout",
     "output_type": "stream",
     "text": [
      "0    15\n",
      "1    25\n",
      "2    35\n",
      "dtype: int64\n"
     ]
    }
   ],
   "source": [
    "# it is basically use to assign the values to 0 or as given below also we can use\n",
    "\n",
    "series = pd.Series([10, 20, 30])\n",
    "scalar_series = pd.Series(5,index=series.index)\n",
    "print(series + scalar_series)"
   ]
  },
  {
   "cell_type": "markdown",
   "id": "dea0c153-f6c5-4ba7-a82e-16850f8e8952",
   "metadata": {},
   "source": [
    "# Pandas series using dictionaries\n",
    "\n",
    "##### A Pandas Series from a dictionary refers to creating a Series object using a Python dictionary. In Pandas, a Series is a one-dimensional labeled array that can hold data of any type (e.g., integers, floats, strings). When you pass a dictionary to create a Series, the dictionary's keys become the Series' index, and the dictionary's values become the Series' data."
   ]
  },
  {
   "cell_type": "markdown",
   "id": "a268a214-a2d7-4a7f-96e6-80c8f0f27ca2",
   "metadata": {},
   "source": [
    "sytax->\n",
    "\n",
    "import pandas as pd\n",
    "\n",
    "data = {'key1': value1, 'key2': value2, ...}\n",
    "\n",
    "series = pd.Series(data)"
   ]
  },
  {
   "cell_type": "code",
   "execution_count": 42,
   "id": "acacc52a-f2fd-435a-8f4c-aa4df451af67",
   "metadata": {},
   "outputs": [
    {
     "name": "stdout",
     "output_type": "stream",
     "text": [
      "Hemanth    85\n",
      "Kumar      90\n",
      "Ninu       78\n",
      "dtype: int64\n"
     ]
    }
   ],
   "source": [
    "import pandas as pd\n",
    "\n",
    "data = {'Hemanth': 85, 'Kumar': 90, 'Ninu': 78}\n",
    "\n",
    "series = pd.Series(data)\n",
    "\n",
    "print(series)"
   ]
  },
  {
   "cell_type": "code",
   "execution_count": 43,
   "id": "a59a4801-e2d8-470a-9b95-3e11746c24de",
   "metadata": {},
   "outputs": [
    {
     "name": "stdout",
     "output_type": "stream",
     "text": [
      "84.33333333333333\n",
      "90\n",
      "78\n"
     ]
    }
   ],
   "source": [
    "# using of aggregate function \n",
    "\n",
    "print(series.mean()) \n",
    "print(series.max())   \n",
    "print(series.min())  "
   ]
  },
  {
   "cell_type": "code",
   "execution_count": 44,
   "id": "180d4aa4-ce48-453d-9653-9c5d951cdba4",
   "metadata": {},
   "outputs": [
    {
     "name": "stdout",
     "output_type": "stream",
     "text": [
      "Hemanth    85\n",
      "Kumar      90\n",
      "Ninu       78\n",
      "Name: Marks sheet, dtype: int64\n"
     ]
    }
   ],
   "source": [
    "# using of name attribute\n",
    "\n",
    "series.name=\"Marks sheet\"\n",
    "\n",
    "print(series)"
   ]
  },
  {
   "cell_type": "code",
   "execution_count": 45,
   "id": "34794dda-516c-4f29-88a7-4485d5e2ab23",
   "metadata": {},
   "outputs": [
    {
     "name": "stdout",
     "output_type": "stream",
     "text": [
      "Hemanth    99\n",
      "Kumar      90\n",
      "Ninu       78\n",
      "Name: Marks sheet, dtype: int64\n"
     ]
    }
   ],
   "source": [
    "# updating of series\n",
    "series['Hemanth']=99;\n",
    "\n",
    "print(series)"
   ]
  },
  {
   "cell_type": "code",
   "execution_count": 46,
   "id": "4d6b9be6-a373-453e-9685-7bd237a89185",
   "metadata": {},
   "outputs": [
    {
     "name": "stdout",
     "output_type": "stream",
     "text": [
      "Hemanth    99\n",
      "Kumar      90\n",
      "Name: Marks sheet, dtype: int64\n"
     ]
    }
   ],
   "source": [
    "# How to drop the single series\n",
    "\n",
    "series=series.drop(['Ninu'])\n",
    "\n",
    "print(series)"
   ]
  },
  {
   "cell_type": "code",
   "execution_count": 47,
   "id": "bbd21e6e-0b90-44a1-a948-a9c35cd38b32",
   "metadata": {},
   "outputs": [
    {
     "name": "stdout",
     "output_type": "stream",
     "text": [
      "Hemanth     76\n",
      "Kumar       90\n",
      "kumar       90\n",
      "Nanu        60\n",
      "good boy    70\n",
      "Human       55\n",
      "Name: Marks sheet, dtype: int64\n"
     ]
    }
   ],
   "source": [
    "# To add new series\n",
    "\n",
    "series[\"Hemanth\"]=76;\n",
    "series[\"kumar\"]=90;\n",
    "series[\"Nanu\"]=60;\n",
    "series[\"good boy\"]=70;\n",
    "series[\"Human\"]=55;\n",
    "\n",
    "print(series)"
   ]
  },
  {
   "cell_type": "code",
   "execution_count": 48,
   "id": "e1514c5d-1e0a-4915-8f81-52752c110622",
   "metadata": {},
   "outputs": [
    {
     "name": "stdout",
     "output_type": "stream",
     "text": [
      "Hemanth    76\n",
      "Kumar      90\n",
      "kumar      90\n",
      "Name: Marks sheet, dtype: int64\n"
     ]
    }
   ],
   "source": [
    "print(series[0:3])"
   ]
  },
  {
   "cell_type": "code",
   "execution_count": 49,
   "id": "c8679e44-68d7-41df-9cf5-28ecd1530622",
   "metadata": {},
   "outputs": [
    {
     "data": {
      "text/plain": [
       "90"
      ]
     },
     "execution_count": 49,
     "metadata": {},
     "output_type": "execute_result"
    }
   ],
   "source": [
    "max(series)"
   ]
  },
  {
   "cell_type": "code",
   "execution_count": 50,
   "id": "a96a7f55-da06-4687-867d-68dd50d0e72f",
   "metadata": {},
   "outputs": [
    {
     "name": "stdout",
     "output_type": "stream",
     "text": [
      "Hemanth    [90, 80, 95, 100]\n",
      "Kumar      [90, 80, 95, 100]\n",
      "Nanu        [78, 90, 80, 95]\n",
      "dtype: object\n"
     ]
    }
   ],
   "source": [
    "import pandas as pd\n",
    "\n",
    "data = {'Hemanth': [90,80,95,100], 'Kumar': [90,80,95,100], 'Nanu': [78,90,80,95]}\n",
    "\n",
    "series = pd.Series(data)\n",
    "\n",
    "print(series)"
   ]
  }
 ],
 "metadata": {
  "kernelspec": {
   "display_name": "Python 3 (ipykernel)",
   "language": "python",
   "name": "python3"
  },
  "language_info": {
   "codemirror_mode": {
    "name": "ipython",
    "version": 3
   },
   "file_extension": ".py",
   "mimetype": "text/x-python",
   "name": "python",
   "nbconvert_exporter": "python",
   "pygments_lexer": "ipython3",
   "version": "3.12.8"
  }
 },
 "nbformat": 4,
 "nbformat_minor": 5
}
