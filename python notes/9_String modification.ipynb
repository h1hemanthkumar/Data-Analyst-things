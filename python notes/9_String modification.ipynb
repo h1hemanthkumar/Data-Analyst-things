{
 "cells": [
  {
   "cell_type": "code",
   "execution_count": 1,
   "id": "227a1057-54eb-4648-8613-2fd03b8614b0",
   "metadata": {},
   "outputs": [],
   "source": [
    "# String modification \n",
    "\n",
    "# Python having some set-builder function on string that we can implement they are:-\n",
    "\n",
    "# 1) .upper()\n",
    "# 2) .lower()\n",
    "# 3) .strip()\n",
    "# 4) .replace()\n",
    "# 5) .split() \n",
    "\n",
    "# There are still more string function if needed to look at it https://www.w3schools.com/python/python_ref_string.asp use this."
   ]
  },
  {
   "cell_type": "code",
   "execution_count": 3,
   "id": "4f97b135-05dc-4a2c-b4d6-b471231339a5",
   "metadata": {},
   "outputs": [
    {
     "name": "stdout",
     "output_type": "stream",
     "text": [
      "HEMANTH\n",
      "hemanth\n"
     ]
    }
   ],
   "source": [
    "# 1) Upper case\n",
    "\n",
    "Name=\"hemanth\"\n",
    "\n",
    "print(Name.upper()) # This is immutable because the original string is not affected with this modification\n",
    "print(Name);"
   ]
  },
  {
   "cell_type": "code",
   "execution_count": 6,
   "id": "7fe3bef2-acd0-4c26-92d3-3fddd67e5e90",
   "metadata": {},
   "outputs": [
    {
     "name": "stdout",
     "output_type": "stream",
     "text": [
      "hemanth kumar\n"
     ]
    }
   ],
   "source": [
    "# 2) Lower case \n",
    "\n",
    "Name='Hemanth Kumar'\n",
    "\n",
    "print(Name.lower())"
   ]
  },
  {
   "cell_type": "code",
   "execution_count": 8,
   "id": "fc67795b-297d-4cd4-a763-3fde25ca15a1",
   "metadata": {},
   "outputs": [
    {
     "name": "stdout",
     "output_type": "stream",
     "text": [
      "Hemanth kumar is the best\n"
     ]
    }
   ],
   "source": [
    "# 3) Strip space\n",
    "\n",
    "Name=\"           Hemanth kumar is the best\"\n",
    "\n",
    "print(Name.strip()) # it basically remove the unwanted space at the front of the string and return the newstring."
   ]
  },
  {
   "cell_type": "code",
   "execution_count": 10,
   "id": "259da5f1-247c-4fcb-8289-ff1218b96118",
   "metadata": {},
   "outputs": [
    {
     "name": "stdout",
     "output_type": "stream",
     "text": [
      "Hemtnth kumtr is good boy\n"
     ]
    }
   ],
   "source": [
    "# 4) Replace one character from another \n",
    "\n",
    "Name='Hemanth kumar is good boy'\n",
    "\n",
    "print(Name.replace('a','t'))"
   ]
  },
  {
   "cell_type": "code",
   "execution_count": 11,
   "id": "5c8f84ab-7f28-424a-a048-dd0ea613192e",
   "metadata": {},
   "outputs": [
    {
     "name": "stdout",
     "output_type": "stream",
     "text": [
      "Hemanth Kumar is good human\n"
     ]
    }
   ],
   "source": [
    "# 5) Replace sequence of character from another\n",
    "\n",
    "Name=\"Hemanth Kumar is good boy\"\n",
    "\n",
    "print(Name.replace('boy','human'));"
   ]
  },
  {
   "cell_type": "code",
   "execution_count": 13,
   "id": "fa9bd48e-335c-4dfe-b35e-5d3c993c472a",
   "metadata": {},
   "outputs": [
    {
     "name": "stdout",
     "output_type": "stream",
     "text": [
      "['Hemanth', 'Kumar', 'is', 'good', 'boy', 'and', 'the', 'world', 'biggest', 'business', 'man']\n"
     ]
    }
   ],
   "source": [
    "# 6) Split the string into array\n",
    "\n",
    "Name=\"Hemanth Kumar is good boy and the world biggest business man\"\n",
    "\n",
    "print(Name.split(' ')) # The string are splited into the array based on the parameter like ' ' or ',' or 'anyother'"
   ]
  },
  {
   "cell_type": "code",
   "execution_count": 16,
   "id": "d5237cac-3a3d-4e6b-b04e-24cb34f3beda",
   "metadata": {},
   "outputs": [
    {
     "ename": "ValueError",
     "evalue": "empty separator",
     "output_type": "error",
     "traceback": [
      "\u001b[1;31m---------------------------------------------------------------------------\u001b[0m",
      "\u001b[1;31mValueError\u001b[0m                                Traceback (most recent call last)",
      "Cell \u001b[1;32mIn[16], line 7\u001b[0m\n\u001b[0;32m      1\u001b[0m \u001b[38;5;66;03m# Split the string into array \u001b[39;00m\n\u001b[0;32m      2\u001b[0m \n\u001b[0;32m      3\u001b[0m \u001b[38;5;66;03m# Example 1:\u001b[39;00m\n\u001b[0;32m      5\u001b[0m Name\u001b[38;5;241m=\u001b[39m\u001b[38;5;124m\"\u001b[39m\u001b[38;5;124mHemanth Kumar , is a good ,boy\u001b[39m\u001b[38;5;124m\"\u001b[39m\n\u001b[1;32m----> 7\u001b[0m \u001b[38;5;28mprint\u001b[39m(\u001b[43mName\u001b[49m\u001b[38;5;241;43m.\u001b[39;49m\u001b[43msplit\u001b[49m\u001b[43m(\u001b[49m\u001b[38;5;124;43m'\u001b[39;49m\u001b[38;5;124;43m'\u001b[39;49m\u001b[43m)\u001b[49m) \u001b[38;5;66;03m# it will give the error\u001b[39;00m\n",
      "\u001b[1;31mValueError\u001b[0m: empty separator"
     ]
    }
   ],
   "source": [
    "# Split the string into array \n",
    "\n",
    "# Example 1:\n",
    "\n",
    "Name=\"Hemanth Kumar , is a good ,boy\"\n",
    "\n",
    "print(Name.split('')) # it will give the error"
   ]
  }
 ],
 "metadata": {
  "kernelspec": {
   "display_name": "Python 3 (ipykernel)",
   "language": "python",
   "name": "python3"
  },
  "language_info": {
   "codemirror_mode": {
    "name": "ipython",
    "version": 3
   },
   "file_extension": ".py",
   "mimetype": "text/x-python",
   "name": "python",
   "nbconvert_exporter": "python",
   "pygments_lexer": "ipython3",
   "version": "3.12.7"
  }
 },
 "nbformat": 4,
 "nbformat_minor": 5
}
