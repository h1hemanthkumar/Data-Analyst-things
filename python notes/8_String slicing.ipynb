{
 "cells": [
  {
   "cell_type": "code",
   "execution_count": 3,
   "id": "66c8495a-e6e3-468c-af22-e31383889a4b",
   "metadata": {},
   "outputs": [
    {
     "name": "stdout",
     "output_type": "stream",
     "text": [
      "M Hemant\n"
     ]
    }
   ],
   "source": [
    "# STRING SLICING\n",
    "\n",
    "# String slicing is the process extracting the part of the string in the original string.\n",
    "\n",
    "name=\"H M Hemanth Kumar\"\n",
    "\n",
    "print(name[2:10]) # It consider the string as a zero based and then it extract the string from the 2 to 10-1"
   ]
  },
  {
   "cell_type": "code",
   "execution_count": 5,
   "id": "aa799b4d-83d9-4d44-9beb-89fa9595abac",
   "metadata": {},
   "outputs": [
    {
     "name": "stdout",
     "output_type": "stream",
     "text": [
      "r\n"
     ]
    }
   ],
   "source": [
    "# Even though if the index is more than the size then original string it will print all the element in it\n",
    "name=\"H r\"\n",
    "\n",
    "print(name[2:10]) "
   ]
  },
  {
   "cell_type": "code",
   "execution_count": 7,
   "id": "4ddcf9ef-fbfc-4ba1-aa89-247a19a87b3c",
   "metadata": {},
   "outputs": [
    {
     "name": "stdout",
     "output_type": "stream",
     "text": [
      "H M Hemant\n"
     ]
    }
   ],
   "source": [
    "# Slicing from the first character\n",
    "\n",
    "name=\"H M Hemanth Kumar\" \n",
    "\n",
    "print(name[:10]) # it will start from the first character and end upto lastindexspecified-1-->10-1"
   ]
  },
  {
   "cell_type": "code",
   "execution_count": 8,
   "id": "02f48af9-b117-407b-8646-05bdc2350310",
   "metadata": {},
   "outputs": [
    {
     "name": "stdout",
     "output_type": "stream",
     "text": [
      "M Hemanth Kumar\n"
     ]
    }
   ],
   "source": [
    "# Slicing up to last character\n",
    "\n",
    "name=\"H M Hemanth Kumar\" \n",
    "\n",
    "print(name[2:]) # it will start from the 2nd index and end upto the lastindex that means from 2 to whole string"
   ]
  },
  {
   "cell_type": "code",
   "execution_count": 9,
   "id": "d5cb14d7-ea89-4a22-83a3-22cbdb948690",
   "metadata": {},
   "outputs": [
    {
     "name": "stdout",
     "output_type": "stream",
     "text": [
      "H M Hemanth Kumar\n"
     ]
    }
   ],
   "source": [
    "# Whole string Slicing \n",
    "\n",
    "Name=\"H M Hemanth Kumar\"\n",
    "\n",
    "print(name[:]) # it willl print all the character of the string "
   ]
  },
  {
   "cell_type": "code",
   "execution_count": 14,
   "id": "4797999a-9df6-4eae-9988-833b28935f58",
   "metadata": {},
   "outputs": [
    {
     "name": "stdout",
     "output_type": "stream",
     "text": [
      "anth Kum\n"
     ]
    }
   ],
   "source": [
    "# Negative index slicing \n",
    "\n",
    "# In negative index slicing the index start from -1 that is the last index\n",
    "\n",
    "Name='H M Hemanth Kumar'\n",
    "\n",
    "print(name[-10:-2]) # it will print all from -10 to -2 excluding -2  "
   ]
  },
  {
   "cell_type": "code",
   "execution_count": 18,
   "id": "792b59c9-fe2c-46bf-ab07-e634ee844762",
   "metadata": {},
   "outputs": [
    {
     "name": "stdout",
     "output_type": "stream",
     "text": [
      "anth Kum\n"
     ]
    }
   ],
   "source": [
    "# Negative index slicing \n",
    "\n",
    "# Combination of negative and positive is also possible\n",
    "\n",
    "Name='H M Hemanth Kumar'\n",
    "\n",
    "print(name[-10:15]) # The only thing is that the first index must be smaller in term of indexing than the second if it is not it will print nothing"
   ]
  },
  {
   "cell_type": "code",
   "execution_count": 19,
   "id": "d37eb001-a875-48ef-878a-cdf83aa58cea",
   "metadata": {},
   "outputs": [
    {
     "name": "stdout",
     "output_type": "stream",
     "text": [
      "\n"
     ]
    }
   ],
   "source": [
    "# Negative index slicing \n",
    "\n",
    "# Combination of negative and positive is also possible\n",
    "\n",
    "Name='H M Hemanth Kumar'\n",
    "\n",
    "print(name[-10:2]) # The only thing is that the first index must be smaller in term of indexing than the second if it is not it will print nothing"
   ]
  }
 ],
 "metadata": {
  "kernelspec": {
   "display_name": "Python 3 (ipykernel)",
   "language": "python",
   "name": "python3"
  },
  "language_info": {
   "codemirror_mode": {
    "name": "ipython",
    "version": 3
   },
   "file_extension": ".py",
   "mimetype": "text/x-python",
   "name": "python",
   "nbconvert_exporter": "python",
   "pygments_lexer": "ipython3",
   "version": "3.12.7"
  }
 },
 "nbformat": 4,
 "nbformat_minor": 5
}
