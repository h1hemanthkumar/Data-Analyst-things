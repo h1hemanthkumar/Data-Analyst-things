{
 "cells": [
  {
   "cell_type": "code",
   "execution_count": 3,
   "id": "ec5e1957-e9f6-4d81-a814-e2f57ca9ca4d",
   "metadata": {},
   "outputs": [
    {
     "name": "stdout",
     "output_type": "stream",
     "text": [
      "The number is 5\n"
     ]
    }
   ],
   "source": [
    "# Global Variable\n",
    "\n",
    "# Variables that are created outside of a function (as in all of the examples in the previous pages) are known as global variables.\n",
    "# Global variables can be used by everyone, both inside of functions and outside.\n",
    "\n",
    "x=5\n",
    "\n",
    "def things():\n",
    "    print(\"The number is \"+str(x));\n",
    "\n",
    "things();"
   ]
  },
  {
   "cell_type": "code",
   "execution_count": 5,
   "id": "9254b260-506b-4b87-9580-33944b971fb9",
   "metadata": {},
   "outputs": [
    {
     "name": "stdout",
     "output_type": "stream",
     "text": [
      "Python is fantastic\n",
      "Python is awesome\n"
     ]
    }
   ],
   "source": [
    "# If we create a variable with the same name inside a function, this variable will be local, and can only be used inside the function.\n",
    "# The global variable with the same name will remain as it was, global and with the original value.\n",
    "\n",
    "x = \"awesome\"\n",
    "\n",
    "def myfunc():\n",
    "  x = \"fantastic\"\n",
    "  print(\"Python is \" + x)\n",
    "\n",
    "myfunc()\n",
    "\n",
    "print(\"Python is \" + x)"
   ]
  },
  {
   "cell_type": "code",
   "execution_count": 7,
   "id": "337e26ea-9460-4174-88f4-76fb570bd0c4",
   "metadata": {},
   "outputs": [
    {
     "name": "stdout",
     "output_type": "stream",
     "text": [
      "Python is fantastic\n"
     ]
    }
   ],
   "source": [
    "# The Global Keyword\n",
    "\n",
    "# Normally, when you create a variable inside a function, that variable is local, and can only be used inside that function.\n",
    "\n",
    "# To create a global variable inside a function, you can use the global keyword.\n",
    "\n",
    "def myfunc():\n",
    "  global x\n",
    "  x = \"fantastic\"\n",
    "\n",
    "myfunc()\n",
    "\n",
    "print(\"Python is \" + x)\n"
   ]
  },
  {
   "cell_type": "code",
   "execution_count": 9,
   "id": "669ad4c7-0b33-4850-9bdd-03d43ba83ba4",
   "metadata": {},
   "outputs": [
    {
     "name": "stdout",
     "output_type": "stream",
     "text": [
      "Python is fantastic\n"
     ]
    }
   ],
   "source": [
    "# Reassign the global variable\n",
    "\n",
    "x = \"awesome\"\n",
    "\n",
    "def myfunc():\n",
    "  global x\n",
    "  x = \"fantastic\"\n",
    "\n",
    "myfunc()\n",
    "\n",
    "print(\"Python is \" + x)"
   ]
  },
  {
   "cell_type": "code",
   "execution_count": 10,
   "id": "524685eb-0ffe-4d3f-93c2-300dda0114fb",
   "metadata": {},
   "outputs": [
    {
     "name": "stdout",
     "output_type": "stream",
     "text": [
      "12\n"
     ]
    }
   ],
   "source": [
    "# Using of both global variable and local variable with same name inside the function\n",
    "\n",
    "x = 7  # Global variable\n",
    "\n",
    "def add_variables():\n",
    "    x = 5  # Local variable with the same name as the global variable\n",
    "    result = x + globals()['x']  # Add local 'x' and global 'x'\n",
    "    return result\n",
    "\n",
    "print(add_variables())  # Output will be 12\n"
   ]
  }
 ],
 "metadata": {
  "kernelspec": {
   "display_name": "Python 3 (ipykernel)",
   "language": "python",
   "name": "python3"
  },
  "language_info": {
   "codemirror_mode": {
    "name": "ipython",
    "version": 3
   },
   "file_extension": ".py",
   "mimetype": "text/x-python",
   "name": "python",
   "nbconvert_exporter": "python",
   "pygments_lexer": "ipython3",
   "version": "3.12.7"
  }
 },
 "nbformat": 4,
 "nbformat_minor": 5
}
