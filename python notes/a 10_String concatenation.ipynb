{
 "cells": [
  {
   "cell_type": "code",
   "execution_count": 4,
   "id": "69abf5ef-313b-4847-8952-00c32d5be4dc",
   "metadata": {},
   "outputs": [],
   "source": [
    "# String concatenation \n",
    "\n",
    "# In python string concatenation is similar to other don't worry"
   ]
  },
  {
   "cell_type": "code",
   "execution_count": 5,
   "id": "b2f5b776-c932-4e3b-a3ce-238ae5b209fa",
   "metadata": {},
   "outputs": [
    {
     "name": "stdout",
     "output_type": "stream",
     "text": [
      "Hemanth Kumar\n"
     ]
    }
   ],
   "source": [
    "firstname=\"Hemanth\"\n",
    "secondname=\"Kumar\"\n",
    "fullname=firstname+' '+secondname\n",
    "print(fullname)"
   ]
  }
 ],
 "metadata": {
  "kernelspec": {
   "display_name": "Python 3 (ipykernel)",
   "language": "python",
   "name": "python3"
  },
  "language_info": {
   "codemirror_mode": {
    "name": "ipython",
    "version": 3
   },
   "file_extension": ".py",
   "mimetype": "text/x-python",
   "name": "python",
   "nbconvert_exporter": "python",
   "pygments_lexer": "ipython3",
   "version": "3.12.7"
  }
 },
 "nbformat": 4,
 "nbformat_minor": 5
}
