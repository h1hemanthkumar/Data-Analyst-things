{
 "cells": [
  {
   "cell_type": "code",
   "execution_count": 4,
   "id": "b73211b7-66f1-4bf9-a90a-971d07e6b700",
   "metadata": {},
   "outputs": [],
   "source": [
    "# To check the python version in the command prompt \n",
    "# pyton --version in the command prompt will give the version of the python that is installed in the pc"
   ]
  },
  {
   "cell_type": "code",
   "execution_count": 5,
   "id": "6d7f5121-98b8-43e9-ae6c-a1f042cb1d27",
   "metadata": {},
   "outputs": [],
   "source": [
    "# The extension of the python is \".py\""
   ]
  },
  {
   "cell_type": "code",
   "execution_count": 6,
   "id": "45a49bfa-b7cf-4138-b60b-4195dcd27143",
   "metadata": {},
   "outputs": [
    {
     "name": "stdout",
     "output_type": "stream",
     "text": [
      "3.12.7 (tags/v3.12.7:0b05ead, Oct  1 2024, 03:06:41) [MSC v.1941 64 bit (AMD64)]\n"
     ]
    }
   ],
   "source": [
    "# To check the python version in python compiler or jupyter we need to import the sys libarary and check for the version\n",
    "import sys\n",
    "\n",
    "print(sys.version);"
   ]
  },
  {
   "cell_type": "code",
   "execution_count": 2,
   "id": "fe34a15b-f523-4848-85eb-ce3adcbe3fdc",
   "metadata": {},
   "outputs": [],
   "source": [
    "# To exit the python terminal in both the command prompt and in compiler\n",
    "# exit() function can be used it will be restarted when run it back"
   ]
  },
  {
   "cell_type": "code",
   "execution_count": 5,
   "id": "72497d51-5a68-4a09-acd2-bbc9a648576e",
   "metadata": {},
   "outputs": [
    {
     "name": "stdout",
     "output_type": "stream",
     "text": [
      "2 is greater than 1\n"
     ]
    }
   ],
   "source": [
    "# In python there is nothing other than indentation \n",
    "# Indentation is not for only readable but itself is the syntax\n",
    "# Example 1:\n",
    "\n",
    "if(1>2):\n",
    "    print(\"1 is greater than 2\");\n",
    "else:\n",
    "    print(\"2 is greater than 1\");"
   ]
  },
  {
   "cell_type": "code",
   "execution_count": 10,
   "id": "22d17d3c-adc7-468f-abbb-3c7ce229e163",
   "metadata": {},
   "outputs": [
    {
     "data": {
      "text/plain": [
       "'\\nThis is a comment\\nwritten in\\nmore than just one line\\n'"
      ]
     },
     "execution_count": 10,
     "metadata": {},
     "output_type": "execute_result"
    }
   ],
   "source": [
    "# In python the comments are used by \"#\" for single line comments\n",
    "# In python the multiline comments are used by \"\"\" \n",
    "# Example 1:single line comment\n",
    "\n",
    "# This is a comments\n",
    "\"\"\"\n",
    "This is a comment\n",
    "written in\n",
    "more than just one line\n",
    "\"\"\" \n",
    "# but this is not supported in jupyter and also it is not supported when this type of string is assigned to the variable\n"
   ]
  }
 ],
 "metadata": {
  "kernelspec": {
   "display_name": "Python 3 (ipykernel)",
   "language": "python",
   "name": "python3"
  },
  "language_info": {
   "codemirror_mode": {
    "name": "ipython",
    "version": 3
   },
   "file_extension": ".py",
   "mimetype": "text/x-python",
   "name": "python",
   "nbconvert_exporter": "python",
   "pygments_lexer": "ipython3",
   "version": "3.12.7"
  }
 },
 "nbformat": 4,
 "nbformat_minor": 5
}
