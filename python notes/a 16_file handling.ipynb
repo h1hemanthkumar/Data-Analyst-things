{
 "cells": [
  {
   "cell_type": "code",
   "execution_count": 3,
   "id": "a8f8abb8-8816-4414-824f-86b43ef39bc5",
   "metadata": {},
   "outputs": [
    {
     "name": "stdout",
     "output_type": "stream",
     "text": [
      "Hello babe how are you what are you doing\n"
     ]
    }
   ],
   "source": [
    "file=open('common.txt',\"r\")\n",
    "\n",
    "content=file.read()\n",
    "\n",
    "print(content)\n",
    "\n",
    "file.close();"
   ]
  },
  {
   "cell_type": "code",
   "execution_count": 4,
   "id": "58fc2a1c-a61a-4279-80b4-c1f590326fcd",
   "metadata": {},
   "outputs": [
    {
     "name": "stdout",
     "output_type": "stream",
     "text": [
      "Hello babe how are you what are you doing\n"
     ]
    }
   ],
   "source": [
    "with open(\"common.txt\",\"r\") as file:\n",
    "    content=file.read();\n",
    "    print(content)"
   ]
  },
  {
   "cell_type": "code",
   "execution_count": 5,
   "id": "24d9a016-57e7-4d41-ba0a-dea939d83806",
   "metadata": {},
   "outputs": [
    {
     "name": "stdout",
     "output_type": "stream",
     "text": [
      "Hello babe how is thisi guess your fine\n"
     ]
    }
   ],
   "source": [
    "with open(\"hello.txt\",\"w\") as file:\n",
    "    file.write(\"Hello babe how is this\");\n",
    "    file.write(\"i guess your fine\");\n",
    "\n",
    "with open(\"hello.txt\",\"r\") as file:\n",
    "    content=file.read();\n",
    "    print(content);"
   ]
  },
  {
   "cell_type": "code",
   "execution_count": 6,
   "id": "5cd8a0c0-f2fc-4f7c-8a7b-52f90d35e00c",
   "metadata": {},
   "outputs": [
    {
     "name": "stdout",
     "output_type": "stream",
     "text": [
      "Complete Python basics\n",
      "Learn file handling\n"
     ]
    }
   ],
   "source": [
    "def add_task(task):\n",
    "    with open(\"tasks.txt\", \"a\") as file:\n",
    "        file.write(task + \"\\n\")\n",
    "\n",
    "def view_tasks():\n",
    "    with open(\"tasks.txt\", \"r\") as file:\n",
    "        tasks = file.readlines()\n",
    "        for task in tasks:\n",
    "            print(task.strip())\n",
    "\n",
    "def clear_tasks():\n",
    "    with open(\"tasks.txt\", \"w\") as file:\n",
    "        file.write(\"\")\n",
    "\n",
    "# Example Usage:\n",
    "add_task(\"Complete Python basics\")\n",
    "add_task(\"Learn file handling\")\n",
    "view_tasks()\n",
    "clear_tasks()"
   ]
  },
  {
   "cell_type": "code",
   "execution_count": null,
   "id": "3831e4e0-ef2c-4279-a9b1-3c6afc0d1709",
   "metadata": {},
   "outputs": [],
   "source": []
  }
 ],
 "metadata": {
  "kernelspec": {
   "display_name": "Python 3 (ipykernel)",
   "language": "python",
   "name": "python3"
  },
  "language_info": {
   "codemirror_mode": {
    "name": "ipython",
    "version": 3
   },
   "file_extension": ".py",
   "mimetype": "text/x-python",
   "name": "python",
   "nbconvert_exporter": "python",
   "pygments_lexer": "ipython3",
   "version": "3.12.8"
  }
 },
 "nbformat": 4,
 "nbformat_minor": 5
}
