{
 "cells": [
  {
   "cell_type": "code",
   "execution_count": 1,
   "id": "91c011cf-d1ee-45dd-828e-d61b36034540",
   "metadata": {},
   "outputs": [],
   "source": [
    "# List Accessing\n",
    "\n",
    "# List Accessing can be done in many ways:-\n",
    "\n",
    "# 1) It can be done same of as of array in other programming language \n",
    "# 2) It can use negative indexing\n",
    "# 3) It can use slicing"
   ]
  },
  {
   "cell_type": "code",
   "execution_count": 2,
   "id": "1d79eccc-8e5b-4036-b7a3-f03ca12b09ae",
   "metadata": {},
   "outputs": [
    {
     "name": "stdout",
     "output_type": "stream",
     "text": [
      "tiwari in class\n"
     ]
    }
   ],
   "source": [
    "# Use of in operator in list\n",
    "\n",
    "names=['hemanth','karthik','prasanth','tiwari']\n",
    "\n",
    "print('tiwari in class') if 'tiwari' in names else print('tiwari not in class')"
   ]
  }
 ],
 "metadata": {
  "kernelspec": {
   "display_name": "Python 3 (ipykernel)",
   "language": "python",
   "name": "python3"
  },
  "language_info": {
   "codemirror_mode": {
    "name": "ipython",
    "version": 3
   },
   "file_extension": ".py",
   "mimetype": "text/x-python",
   "name": "python",
   "nbconvert_exporter": "python",
   "pygments_lexer": "ipython3",
   "version": "3.12.7"
  }
 },
 "nbformat": 4,
 "nbformat_minor": 5
}
