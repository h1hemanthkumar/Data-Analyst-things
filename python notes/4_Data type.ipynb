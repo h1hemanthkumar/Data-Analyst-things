{
 "cells": [
  {
   "cell_type": "code",
   "execution_count": 1,
   "id": "41181e14-cefb-44cf-86ea-ddcff266d7cc",
   "metadata": {},
   "outputs": [],
   "source": [
    "# Python Data type\n",
    "\n",
    "# Text Type:        str\n",
    "# Numeric Types:\tint, float, complex\n",
    "# Sequence Types:\tlist, tuple, range\n",
    "# Mapping Type:     dict\n",
    "# Set Types:        set, frozenset\n",
    "# Boolean Type:   \tbool\n",
    "# Binary Types:     bytes, bytearray, memoryview\n",
    "# None Type:        NoneType"
   ]
  },
  {
   "cell_type": "code",
   "execution_count": null,
   "id": "72453a9b-d05f-4a5f-96a7-b270444be1e2",
   "metadata": {},
   "outputs": [],
   "source": [
    "# https://www.w3schools.com/python/python_datatypes.asp -> get to know about the type of the data and usage "
   ]
  }
 ],
 "metadata": {
  "kernelspec": {
   "display_name": "Python 3 (ipykernel)",
   "language": "python",
   "name": "python3"
  },
  "language_info": {
   "codemirror_mode": {
    "name": "ipython",
    "version": 3
   },
   "file_extension": ".py",
   "mimetype": "text/x-python",
   "name": "python",
   "nbconvert_exporter": "python",
   "pygments_lexer": "ipython3",
   "version": "3.12.7"
  }
 },
 "nbformat": 4,
 "nbformat_minor": 5
}
