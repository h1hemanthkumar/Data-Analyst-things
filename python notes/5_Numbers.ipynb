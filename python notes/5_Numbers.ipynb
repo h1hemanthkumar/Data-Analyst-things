{
 "cells": [
  {
   "cell_type": "code",
   "execution_count": 1,
   "id": "0f29967e-e38a-4015-a5e5-df3faf4cae7d",
   "metadata": {},
   "outputs": [],
   "source": [
    "# There are three numeric type in python\n",
    "\n",
    "# 1) int\n",
    "# 2) float\n",
    "# 3) complex"
   ]
  },
  {
   "cell_type": "code",
   "execution_count": 3,
   "id": "59184b2d-681b-49d4-a2d4-2e16b707eef6",
   "metadata": {},
   "outputs": [],
   "source": [
    "x = 1    # int\n",
    "y = 2.8  # float\n",
    "z = 1j   # complex"
   ]
  },
  {
   "cell_type": "code",
   "execution_count": 4,
   "id": "e4246f95-872b-4cbc-ace8-a38d52ae2a6b",
   "metadata": {},
   "outputs": [
    {
     "name": "stdout",
     "output_type": "stream",
     "text": [
      "<class 'int'> <class 'float'> <class 'complex'>\n"
     ]
    }
   ],
   "source": [
    "# To check the type of all the above variable\n",
    "\n",
    "print(type(x),type(y),type(z))"
   ]
  },
  {
   "cell_type": "code",
   "execution_count": 5,
   "id": "8262c53b-594d-49fc-adde-593d687c8860",
   "metadata": {},
   "outputs": [
    {
     "name": "stdout",
     "output_type": "stream",
     "text": [
      "<class 'complex'>\n",
      "<class 'complex'>\n",
      "<class 'complex'>\n"
     ]
    }
   ],
   "source": [
    "# Complex type is represented as: \n",
    "\n",
    "x = 3+5j\n",
    "y = 5j\n",
    "z = -5j\n",
    "\n",
    "print(type(x))\n",
    "print(type(y))\n",
    "print(type(z))"
   ]
  },
  {
   "cell_type": "code",
   "execution_count": 6,
   "id": "d9919536-5002-4b4c-91b1-1d65bc19494a",
   "metadata": {},
   "outputs": [
    {
     "name": "stdout",
     "output_type": "stream",
     "text": [
      "1.0\n",
      "2\n",
      "(1+0j)\n",
      "<class 'float'>\n",
      "<class 'int'>\n",
      "<class 'complex'>\n"
     ]
    }
   ],
   "source": [
    "# Type Conversion\n",
    "\n",
    "#convert from int to float:\n",
    "x = float(1)\n",
    "\n",
    "#convert from float to int:\n",
    "y = int(2.8)\n",
    "\n",
    "#convert from int to complex:\n",
    "z = complex(1)\n",
    "\n",
    "print(x)\n",
    "print(y)\n",
    "print(z)\n",
    "\n",
    "print(type(x))\n",
    "print(type(y))\n",
    "print(type(z))"
   ]
  },
  {
   "cell_type": "code",
   "execution_count": 7,
   "id": "de56b574-dd4b-45cc-964d-79bd0ea4e4a1",
   "metadata": {},
   "outputs": [],
   "source": [
    "# Note: we cannot convert complex numbers into another number type."
   ]
  },
  {
   "cell_type": "code",
   "execution_count": 35,
   "id": "3c7f6477-8d16-4dcf-bb39-8ffb5f1b2c49",
   "metadata": {},
   "outputs": [
    {
     "name": "stdout",
     "output_type": "stream",
     "text": [
      "6\n"
     ]
    }
   ],
   "source": [
    "# Python does not have a random() function to make a random number, but Python has a built-in module called random.\n",
    "\n",
    "import random\n",
    "\n",
    "print(random.randrange(0,7));"
   ]
  }
 ],
 "metadata": {
  "kernelspec": {
   "display_name": "Python 3 (ipykernel)",
   "language": "python",
   "name": "python3"
  },
  "language_info": {
   "codemirror_mode": {
    "name": "ipython",
    "version": 3
   },
   "file_extension": ".py",
   "mimetype": "text/x-python",
   "name": "python",
   "nbconvert_exporter": "python",
   "pygments_lexer": "ipython3",
   "version": "3.12.7"
  }
 },
 "nbformat": 4,
 "nbformat_minor": 5
}
