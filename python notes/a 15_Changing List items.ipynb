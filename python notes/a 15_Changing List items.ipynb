{
 "cells": [
  {
   "cell_type": "code",
   "execution_count": 1,
   "id": "8d2e9b77-5423-4024-9711-1053717fe260",
   "metadata": {},
   "outputs": [
    {
     "name": "stdout",
     "output_type": "stream",
     "text": [
      "['hemanth', 'good', 'boy']\n",
      "['hemanth', 'good', 'men']\n"
     ]
    }
   ],
   "source": [
    "# Changing single value in a list\n",
    "\n",
    "list1=['hemanth','good','boy']\n",
    "\n",
    "print(list1)\n",
    "\n",
    "list1[2]='men'\n",
    "\n",
    "print(list1)"
   ]
  },
  {
   "cell_type": "code",
   "execution_count": null,
   "id": "1b587d29-7090-4fb7-9e1a-d17749229efc",
   "metadata": {},
   "outputs": [],
   "source": []
  }
 ],
 "metadata": {
  "kernelspec": {
   "display_name": "Python 3 (ipykernel)",
   "language": "python",
   "name": "python3"
  },
  "language_info": {
   "codemirror_mode": {
    "name": "ipython",
    "version": 3
   },
   "file_extension": ".py",
   "mimetype": "text/x-python",
   "name": "python",
   "nbconvert_exporter": "python",
   "pygments_lexer": "ipython3",
   "version": "3.12.7"
  }
 },
 "nbformat": 4,
 "nbformat_minor": 5
}
