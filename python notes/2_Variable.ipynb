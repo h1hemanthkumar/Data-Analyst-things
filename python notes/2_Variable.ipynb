{
 "cells": [
  {
   "cell_type": "code",
   "execution_count": 16,
   "id": "871c05e1-793f-4e34-b6b3-022ec4bdef3c",
   "metadata": {},
   "outputs": [
    {
     "name": "stdout",
     "output_type": "stream",
     "text": [
      "2\n",
      "hemanth\n",
      "2.0\n",
      "c\n"
     ]
    }
   ],
   "source": [
    "# In python the variable declaration is done whenever they are assigned there is not extra syntax to declare it like c and other \n",
    "\n",
    "number=2\n",
    "string=\"hemanth\"\n",
    "point=2.0\n",
    "char='c'\n",
    "\n",
    "print(number);\n",
    "print(string);\n",
    "print(point);\n",
    "print(char);"
   ]
  },
  {
   "cell_type": "code",
   "execution_count": 17,
   "id": "531fa7fc-6d63-4f79-8e32-7dd0a34dce17",
   "metadata": {},
   "outputs": [
    {
     "name": "stdout",
     "output_type": "stream",
     "text": [
      " Hemanth Kumar \n",
      " Hemanth Kumar \n"
     ]
    }
   ],
   "source": [
    "# In python the strings can be declared using both single quotes as well as double quotes\n",
    "\n",
    "string=\" Hemanth Kumar \"\n",
    "print(string)\n",
    "string=' Hemanth Kumar '\n",
    "print(string)"
   ]
  },
  {
   "cell_type": "code",
   "execution_count": 19,
   "id": "8df93e11-37b8-458e-a05d-bafe225fc77f",
   "metadata": {},
   "outputs": [],
   "source": [
    "# In python the casting can be done \n",
    "\n",
    "x = str(3)    # x will be '3'\n",
    "y = int(3)    # y will be 3"
   ]
  },
  {
   "cell_type": "code",
   "execution_count": 21,
   "id": "2923d81a-59f7-46d3-bbaa-cf01ac9e634c",
   "metadata": {},
   "outputs": [
    {
     "name": "stdout",
     "output_type": "stream",
     "text": [
      "<class 'str'>\n",
      "<class 'int'>\n"
     ]
    }
   ],
   "source": [
    "# We can know the data type using type() function\n",
    "\n",
    "print(type(x))\n",
    "print(type(y))"
   ]
  },
  {
   "cell_type": "code",
   "execution_count": 22,
   "id": "256379e3-356f-4ff6-9f4f-0373616de766",
   "metadata": {},
   "outputs": [],
   "source": [
    "# Variable names declaration in python is same as that in c or c++"
   ]
  },
  {
   "cell_type": "code",
   "execution_count": 23,
   "id": "bb92c88c-8ac2-4eb3-8dda-4ca0419654fb",
   "metadata": {},
   "outputs": [],
   "source": [
    "myVariableName = \"John\" # Camel case\n",
    "MyVariableName = \"John\" # Pascal case\n",
    "my_variable_name = \"John\" # Snake case"
   ]
  },
  {
   "cell_type": "code",
   "execution_count": 27,
   "id": "3df0a5a1-380e-4fed-a022-36a40edd6c40",
   "metadata": {},
   "outputs": [],
   "source": [
    "# Python provide many different functionality than other language that include:-\n",
    "# 1) multiple value assignment to multiple variable\n",
    "# 2) one value assignment to multiple variable"
   ]
  },
  {
   "cell_type": "code",
   "execution_count": 29,
   "id": "6a489de2-e066-4c47-915f-1a6fd5a8f5dd",
   "metadata": {},
   "outputs": [
    {
     "name": "stdout",
     "output_type": "stream",
     "text": [
      "1\n",
      "2\n",
      "3\n"
     ]
    }
   ],
   "source": [
    "# 1) multiple value assignment to multiple variable \n",
    "\n",
    "x,y,z=1,2,3\n",
    "\n",
    "print(x)\n",
    "print(y)\n",
    "print(z)"
   ]
  },
  {
   "cell_type": "code",
   "execution_count": 31,
   "id": "8f6269d0-7830-4e7c-9032-44f1cebd14d3",
   "metadata": {},
   "outputs": [
    {
     "name": "stdout",
     "output_type": "stream",
     "text": [
      "0\n",
      "0\n",
      "0\n"
     ]
    }
   ],
   "source": [
    "# 2) one value assignment to multiple variable\n",
    "\n",
    "x=y=z=0;\n",
    "\n",
    "print(x)\n",
    "print(y)\n",
    "print(z)"
   ]
  },
  {
   "cell_type": "code",
   "execution_count": 33,
   "id": "4ca558cb-2a00-4c02-8689-199ff2e10aaf",
   "metadata": {},
   "outputs": [
    {
     "name": "stdout",
     "output_type": "stream",
     "text": [
      "1\n",
      "2\n",
      "3\n"
     ]
    }
   ],
   "source": [
    "# Unpack a Collection\n",
    "\n",
    "#If you have a collection of values in a list, tuple etc. Python allows you to extract the values into variables. This is called unpacking.\n",
    "\n",
    "numbers=[1,2,3]\n",
    "x,y,z=numbers;\n",
    "\n",
    "print(x)\n",
    "print(y)\n",
    "print(z)"
   ]
  },
  {
   "cell_type": "code",
   "execution_count": 35,
   "id": "0221e5d3-3e3a-481c-b696-9e60ef221a58",
   "metadata": {},
   "outputs": [
    {
     "name": "stdout",
     "output_type": "stream",
     "text": [
      "5\n"
     ]
    }
   ],
   "source": [
    "# Printing the value in the variable \n",
    "\n",
    "x=5\n",
    "\n",
    "print(x)"
   ]
  },
  {
   "cell_type": "code",
   "execution_count": 36,
   "id": "a78da152-96fe-4a2f-8b1f-f74a9e73ca11",
   "metadata": {},
   "outputs": [
    {
     "name": "stdout",
     "output_type": "stream",
     "text": [
      "2 3 4\n"
     ]
    }
   ],
   "source": [
    "# Printing the value in the mutiple variable in single print statment\n",
    "\n",
    "x,y,z=2,3,4\n",
    "\n",
    "print(x,y,z)"
   ]
  },
  {
   "cell_type": "code",
   "execution_count": 37,
   "id": "789ea335-8411-431b-95f6-b0b371a5f571",
   "metadata": {},
   "outputs": [
    {
     "name": "stdout",
     "output_type": "stream",
     "text": [
      "H M Hemanth Kumar\n"
     ]
    }
   ],
   "source": [
    "# String concat is possible using addition \n",
    "\n",
    "x,y,z=\"H M\",' Hemanth ',\"Kumar\"\n",
    "\n",
    "print(x+y+z)"
   ]
  },
  {
   "cell_type": "code",
   "execution_count": 38,
   "id": "4bb774b6-2c80-4352-863e-f26c54693945",
   "metadata": {},
   "outputs": [
    {
     "ename": "TypeError",
     "evalue": "can only concatenate str (not \"int\") to str",
     "output_type": "error",
     "traceback": [
      "\u001b[1;31m---------------------------------------------------------------------------\u001b[0m",
      "\u001b[1;31mTypeError\u001b[0m                                 Traceback (most recent call last)",
      "Cell \u001b[1;32mIn[38], line 5\u001b[0m\n\u001b[0;32m      1\u001b[0m \u001b[38;5;66;03m# String concat of different type is not possible \u001b[39;00m\n\u001b[0;32m      3\u001b[0m x,y\u001b[38;5;241m=\u001b[39m\u001b[38;5;124m\"\u001b[39m\u001b[38;5;124mhemanth\u001b[39m\u001b[38;5;124m\"\u001b[39m,\u001b[38;5;241m5\u001b[39m;\n\u001b[1;32m----> 5\u001b[0m \u001b[38;5;28mprint\u001b[39m(\u001b[43mx\u001b[49m\u001b[38;5;241;43m+\u001b[39;49m\u001b[43my\u001b[49m);\n",
      "\u001b[1;31mTypeError\u001b[0m: can only concatenate str (not \"int\") to str"
     ]
    }
   ],
   "source": [
    "# String concat of different type is not possible \n",
    "\n",
    "x,y=\"hemanth\",5;\n",
    "\n",
    "print(x+y);"
   ]
  },
  {
   "cell_type": "code",
   "execution_count": 39,
   "id": "c7db6815-f507-4821-96b9-77ed77f05d27",
   "metadata": {},
   "outputs": [
    {
     "name": "stdout",
     "output_type": "stream",
     "text": [
      "hemanth 5\n"
     ]
    }
   ],
   "source": [
    "print(x,y)"
   ]
  },
  {
   "cell_type": "code",
   "execution_count": null,
   "id": "1fdf0dd9-3cf2-4efe-903f-1bacd9a0df06",
   "metadata": {},
   "outputs": [],
   "source": []
  }
 ],
 "metadata": {
  "kernelspec": {
   "display_name": "Python 3 (ipykernel)",
   "language": "python",
   "name": "python3"
  },
  "language_info": {
   "codemirror_mode": {
    "name": "ipython",
    "version": 3
   },
   "file_extension": ".py",
   "mimetype": "text/x-python",
   "name": "python",
   "nbconvert_exporter": "python",
   "pygments_lexer": "ipython3",
   "version": "3.12.7"
  }
 },
 "nbformat": 4,
 "nbformat_minor": 5
}
