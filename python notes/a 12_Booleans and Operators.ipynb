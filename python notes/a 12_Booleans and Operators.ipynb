{
 "cells": [
  {
   "cell_type": "code",
   "execution_count": 4,
   "id": "4f502d07-0a6f-42c7-9d05-fef6dba67171",
   "metadata": {},
   "outputs": [
    {
     "name": "stdout",
     "output_type": "stream",
     "text": [
      "False\n",
      "False\n",
      "True\n"
     ]
    }
   ],
   "source": [
    "# Booleans in python is same as of other programming language don't need to care of it.\n",
    "\n",
    "# But just remember any value other then [],(),{},0,none,false,'' are true;\n",
    "\n",
    "# bool() is a function that checks whether the given thing is true or false \n",
    "\n",
    "print(bool([]))\n",
    "\n",
    "print(bool(0))\n",
    "\n",
    "print(bool([0])) # A list consisting of value so it is true"
   ]
  },
  {
   "cell_type": "code",
   "execution_count": 5,
   "id": "a37aa675-bbfd-4743-8ca6-21b48f73f6c8",
   "metadata": {},
   "outputs": [
    {
     "name": "stdout",
     "output_type": "stream",
     "text": [
      "True\n"
     ]
    }
   ],
   "source": [
    "x=200\n",
    "\n",
    "print(isinstance(x, int)) # check whether it is object of int or not"
   ]
  },
  {
   "cell_type": "code",
   "execution_count": 6,
   "id": "96b1d5d1-d10d-4dee-bca1-877011dc32ec",
   "metadata": {},
   "outputs": [
    {
     "name": "stdout",
     "output_type": "stream",
     "text": [
      "8\n"
     ]
    }
   ],
   "source": [
    "# Operator in python is same as of other programming language don't need to care of it \n",
    "\n",
    "# but there are some of the special that are:-\n",
    "\n",
    "x=2;\n",
    "\n",
    "print(x**3) # it is x power 3 this is the ans"
   ]
  },
  {
   "cell_type": "code",
   "execution_count": 10,
   "id": "096cb09f-90ac-4546-81de-739d8968926f",
   "metadata": {},
   "outputs": [
    {
     "name": "stdout",
     "output_type": "stream",
     "text": [
      "1.5\n",
      "1\n"
     ]
    }
   ],
   "source": [
    "x=3;\n",
    "\n",
    "print(x/2) # it will convert to float \n",
    "print(x//2) # it is like c division of integer"
   ]
  },
  {
   "cell_type": "code",
   "execution_count": 12,
   "id": "b5d2e55d-b93b-47fe-9f81-a32d3278182e",
   "metadata": {},
   "outputs": [
    {
     "name": "stdout",
     "output_type": "stream",
     "text": [
      "3\n",
      "3\n"
     ]
    }
   ],
   "source": [
    "print(x:=3)\n",
    "\n",
    "print(x) # it will assign and then print \"walrus\" operator"
   ]
  },
  {
   "cell_type": "code",
   "execution_count": 13,
   "id": "47d2d53c-51b3-472b-88a6-be4ece48b393",
   "metadata": {},
   "outputs": [
    {
     "name": "stdin",
     "output_type": "stream",
     "text": [
      "Enter something:  1\n"
     ]
    },
    {
     "name": "stdout",
     "output_type": "stream",
     "text": [
      "You entered: 1\n"
     ]
    },
    {
     "name": "stdin",
     "output_type": "stream",
     "text": [
      "Enter something:  quit\n",
      "Enter something:  1\n"
     ]
    },
    {
     "name": "stdout",
     "output_type": "stream",
     "text": [
      "You entered: 1\n"
     ]
    },
    {
     "name": "stdin",
     "output_type": "stream",
     "text": [
      "Enter something:  2\n"
     ]
    },
    {
     "name": "stdout",
     "output_type": "stream",
     "text": [
      "You entered: 2\n"
     ]
    },
    {
     "name": "stdin",
     "output_type": "stream",
     "text": [
      "Enter something:  quit\n"
     ]
    }
   ],
   "source": [
    "# Without walrus operator\n",
    "data = input(\"Enter something: \")\n",
    "while data != \"quit\":\n",
    "    print(f\"You entered: {data}\")\n",
    "    data = input(\"Enter something: \")\n",
    "\n",
    "# With walrus operator\n",
    "while (data := input(\"Enter something: \")) != \"quit\":\n",
    "    print(f\"You entered: {data}\")"
   ]
  },
  {
   "cell_type": "code",
   "execution_count": null,
   "id": "a117e23c-36c4-4eb5-8abc-878b59a8c599",
   "metadata": {},
   "outputs": [],
   "source": [
    "# is operator\n",
    "\n",
    "x = [\"apple\", \"banana\"]\n",
    "y = [\"apple\", \"banana\"]\n",
    "z = x\n",
    "\n",
    "print(x is z)\n",
    "\n",
    "# returns True because z is the same object as x\n",
    "\n",
    "print(x is y)\n",
    "\n",
    "# returns False because x is not the same object as y, even if they have the same content\n",
    "\n",
    "print(x == y)\n",
    "\n",
    "# to demonstrate the difference betweeen \"is\" and \"==\": this comparison returns True because x is equal to y\n"
   ]
  },
  {
   "cell_type": "code",
   "execution_count": 15,
   "id": "7c921c00-98f0-4c77-98a4-15d7417d72b8",
   "metadata": {},
   "outputs": [
    {
     "name": "stdout",
     "output_type": "stream",
     "text": [
      "True\n",
      "True\n",
      "True\n"
     ]
    }
   ],
   "source": [
    "# is operator\n",
    "\n",
    "x = 2\n",
    "y = 2\n",
    "z = x\n",
    "\n",
    "print(x is z)\n",
    "\n",
    "# returns True because z is the same object as x\n",
    "\n",
    "print(x is y)\n",
    "\n",
    "# returns False because x is not the same object as y, even if they have the same content\n",
    "\n",
    "print(x == y)\n",
    "\n",
    "# to demonstrate the difference betweeen \"is\" and \"==\": this comparison returns True because x is equal to y\n"
   ]
  },
  {
   "cell_type": "code",
   "execution_count": 16,
   "id": "270b2b9c-3e5f-47eb-90e1-189e41dc7697",
   "metadata": {},
   "outputs": [],
   "source": [
    "# in simple works if there is number or something it act as == if there is list tuples set then it acts as 'is'"
   ]
  },
  {
   "cell_type": "code",
   "execution_count": 17,
   "id": "b972390f-dffb-4c73-b723-da7aacb6c6a6",
   "metadata": {},
   "outputs": [
    {
     "name": "stdout",
     "output_type": "stream",
     "text": [
      "False\n",
      "True\n",
      "False\n"
     ]
    }
   ],
   "source": [
    "# is not operator\n",
    "\n",
    "x = [\"apple\", \"banana\"]\n",
    "y = [\"apple\", \"banana\"]\n",
    "z = x\n",
    "\n",
    "print(x is not z)\n",
    "\n",
    "# returns False because z is the same object as x\n",
    "\n",
    "print(x is not y)\n",
    "\n",
    "# returns True because x is not the same object as y, even if they have the same content\n",
    "\n",
    "print(x != y)\n",
    "\n",
    "# to demonstrate the difference betweeen \"is not\" and \"!=\": this comparison returns False because x is equal to y"
   ]
  },
  {
   "cell_type": "code",
   "execution_count": 18,
   "id": "2e0d5e0b-cf4a-4eb5-843a-54c97c2c482f",
   "metadata": {},
   "outputs": [],
   "source": [
    "# in simple works if there is number or something it act as != if there is list tuples set then it acts as 'is not'"
   ]
  },
  {
   "cell_type": "code",
   "execution_count": 19,
   "id": "5ee03d94-14d8-4353-b1e9-aac13c781d5d",
   "metadata": {},
   "outputs": [
    {
     "name": "stdout",
     "output_type": "stream",
     "text": [
      "True\n"
     ]
    }
   ],
   "source": [
    "# in operator\n",
    "\n",
    "x=[\"apple\",\"banana\"]\n",
    "\n",
    "print(\"banana\" in x)"
   ]
  },
  {
   "cell_type": "code",
   "execution_count": 23,
   "id": "139df9b2-a576-4d25-b89e-b5c1b29316d9",
   "metadata": {},
   "outputs": [
    {
     "name": "stdout",
     "output_type": "stream",
     "text": [
      "False\n"
     ]
    }
   ],
   "source": [
    "x=[\"apple\",\"banana\",\"cat\",\"dog\"]\n",
    "\n",
    "print([\"apple\",\"banana\"] in x) # false because list dosn't contain list of list"
   ]
  },
  {
   "cell_type": "code",
   "execution_count": 26,
   "id": "4c2de5d5-ed12-4575-915e-2f6bf7c5c190",
   "metadata": {},
   "outputs": [
    {
     "name": "stdout",
     "output_type": "stream",
     "text": [
      "True\n"
     ]
    }
   ],
   "source": [
    "x=[\"apple\",\"banana\",\"cat\",\"dog\"]\n",
    "\n",
    "print(\"apple\" in x and \"banana\" in x ) "
   ]
  },
  {
   "cell_type": "code",
   "execution_count": 27,
   "id": "b094b7cb-9225-4a09-a79a-6bef537ea9fd",
   "metadata": {},
   "outputs": [
    {
     "ename": "TypeError",
     "evalue": "argument of type 'int' is not iterable",
     "output_type": "error",
     "traceback": [
      "\u001b[1;31m---------------------------------------------------------------------------\u001b[0m",
      "\u001b[1;31mTypeError\u001b[0m                                 Traceback (most recent call last)",
      "Cell \u001b[1;32mIn[27], line 3\u001b[0m\n\u001b[0;32m      1\u001b[0m x\u001b[38;5;241m=\u001b[39m\u001b[38;5;241m56\u001b[39m\n\u001b[1;32m----> 3\u001b[0m \u001b[38;5;28mprint\u001b[39m(\u001b[38;5;241;43m6\u001b[39;49m\u001b[43m \u001b[49m\u001b[38;5;129;43;01min\u001b[39;49;00m\u001b[43m \u001b[49m\u001b[43mx\u001b[49m)\n",
      "\u001b[1;31mTypeError\u001b[0m: argument of type 'int' is not iterable"
     ]
    }
   ],
   "source": [
    "x=56\n",
    "\n",
    "print(6 in x)"
   ]
  },
  {
   "cell_type": "code",
   "execution_count": 28,
   "id": "15833fd6-e82b-4184-b274-08717a7b6178",
   "metadata": {},
   "outputs": [],
   "source": [
    "# not in Operator\n",
    "\n",
    "# it also works same as that of in but oppositly"
   ]
  }
 ],
 "metadata": {
  "kernelspec": {
   "display_name": "Python 3 (ipykernel)",
   "language": "python",
   "name": "python3"
  },
  "language_info": {
   "codemirror_mode": {
    "name": "ipython",
    "version": 3
   },
   "file_extension": ".py",
   "mimetype": "text/x-python",
   "name": "python",
   "nbconvert_exporter": "python",
   "pygments_lexer": "ipython3",
   "version": "3.12.7"
  }
 },
 "nbformat": 4,
 "nbformat_minor": 5
}
