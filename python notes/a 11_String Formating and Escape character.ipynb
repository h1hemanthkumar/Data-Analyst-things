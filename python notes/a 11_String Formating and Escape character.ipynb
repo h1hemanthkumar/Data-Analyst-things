{
 "cells": [
  {
   "cell_type": "code",
   "execution_count": 1,
   "id": "068e6740-c94c-4fe8-968a-6ae0245fa54b",
   "metadata": {},
   "outputs": [
    {
     "name": "stdout",
     "output_type": "stream",
     "text": [
      "My name is Hemanth. My age is 20\n"
     ]
    }
   ],
   "source": [
    "# String Formatting\n",
    "\n",
    "# String formatting in Python allows you to inject variables into strings to create dynamic and readable output.\n",
    "\n",
    "# F-string is the best technic to achive string formatting\n",
    "\n",
    "age = 20\n",
    "txt =f\"My name is Hemanth. My age is {age}\"\n",
    "print(txt)\n"
   ]
  },
  {
   "cell_type": "code",
   "execution_count": 2,
   "id": "78ec2480-2d12-4560-9560-f4a9709c660d",
   "metadata": {},
   "outputs": [
    {
     "ename": "TypeError",
     "evalue": "can only concatenate str (not \"int\") to str",
     "output_type": "error",
     "traceback": [
      "\u001b[1;31m---------------------------------------------------------------------------\u001b[0m",
      "\u001b[1;31mTypeError\u001b[0m                                 Traceback (most recent call last)",
      "Cell \u001b[1;32mIn[2], line 4\u001b[0m\n\u001b[0;32m      1\u001b[0m \u001b[38;5;66;03m# String formatting does not works same as that of the java it is bit different like combination of both number and letter\u001b[39;00m\n\u001b[0;32m      3\u001b[0m age \u001b[38;5;241m=\u001b[39m \u001b[38;5;241m36\u001b[39m\n\u001b[1;32m----> 4\u001b[0m txt \u001b[38;5;241m=\u001b[39m \u001b[38;5;124;43m\"\u001b[39;49m\u001b[38;5;124;43mMy name is John, I am \u001b[39;49m\u001b[38;5;124;43m\"\u001b[39;49m\u001b[43m \u001b[49m\u001b[38;5;241;43m+\u001b[39;49m\u001b[43m \u001b[49m\u001b[43mage\u001b[49m\n\u001b[0;32m      5\u001b[0m \u001b[38;5;28mprint\u001b[39m(txt)\n",
      "\u001b[1;31mTypeError\u001b[0m: can only concatenate str (not \"int\") to str"
     ]
    }
   ],
   "source": [
    "# String formatting does not works same as that of the java it is bit different like combination of both number and letter\n",
    "\n",
    "age = 36\n",
    "txt = \"My name is John, I am \" + age\n",
    "print(txt)"
   ]
  },
  {
   "cell_type": "code",
   "execution_count": 5,
   "id": "62660a6b-e2d9-4071-ac64-e44a992fb4d9",
   "metadata": {},
   "outputs": [
    {
     "name": "stdout",
     "output_type": "stream",
     "text": [
      "The value of pi is 3.14\n",
      "The value of larger value is 123455.33\n"
     ]
    }
   ],
   "source": [
    "# The placeholder in string format can be modified using colon modification in term is:-\n",
    "\n",
    "pi=3.1421;\n",
    "print(f\"The value of pi is {pi:.2f}\");\n",
    "\n",
    "largervalue=123455.3344;\n",
    "print(f\"The value of larger value is {largervalue:0.2f}\");"
   ]
  },
  {
   "cell_type": "code",
   "execution_count": 7,
   "id": "d1d85ed3-e982-41a5-80b9-45c3ab785d2c",
   "metadata": {},
   "outputs": [
    {
     "name": "stdout",
     "output_type": "stream",
     "text": [
      "The multiplication value of 2 and 4 is 8\n"
     ]
    }
   ],
   "source": [
    "# The placeholder in strings formating may also contains operation\n",
    "\n",
    "print(f\"The multiplication value of 2 and 4 is {2*4}\")"
   ]
  },
  {
   "cell_type": "code",
   "execution_count": 8,
   "id": "a9118b7e-7fd4-41ea-95ed-b6ee4def5ed4",
   "metadata": {},
   "outputs": [
    {
     "name": "stdout",
     "output_type": "stream",
     "text": [
      "Hemanth Kumar is a 'good' boy\n"
     ]
    }
   ],
   "source": [
    "# Escape character\n",
    "\n",
    "# Escape character is basically used to avoid the character next to backslash\n",
    "\n",
    "print('Hemanth Kumar is a \\'good\\' boy')"
   ]
  },
  {
   "cell_type": "code",
   "execution_count": 9,
   "id": "c6f54c36-c3ab-46ce-af6e-3d51a80bd3ef",
   "metadata": {},
   "outputs": [
    {
     "ename": "SyntaxError",
     "evalue": "invalid syntax. Perhaps you forgot a comma? (1257597669.py, line 1)",
     "output_type": "error",
     "traceback": [
      "\u001b[1;36m  Cell \u001b[1;32mIn[9], line 1\u001b[1;36m\u001b[0m\n\u001b[1;33m    print('Hemanth Kumar is a 'good' boy')\u001b[0m\n\u001b[1;37m          ^\u001b[0m\n\u001b[1;31mSyntaxError\u001b[0m\u001b[1;31m:\u001b[0m invalid syntax. Perhaps you forgot a comma?\n"
     ]
    }
   ],
   "source": [
    "print('Hemanth Kumar is a 'good' boy')"
   ]
  }
 ],
 "metadata": {
  "kernelspec": {
   "display_name": "Python 3 (ipykernel)",
   "language": "python",
   "name": "python3"
  },
  "language_info": {
   "codemirror_mode": {
    "name": "ipython",
    "version": 3
   },
   "file_extension": ".py",
   "mimetype": "text/x-python",
   "name": "python",
   "nbconvert_exporter": "python",
   "pygments_lexer": "ipython3",
   "version": "3.12.7"
  }
 },
 "nbformat": 4,
 "nbformat_minor": 5
}
